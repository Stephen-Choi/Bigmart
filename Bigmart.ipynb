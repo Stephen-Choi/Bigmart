{
 "cells": [
  {
   "cell_type": "markdown",
   "metadata": {},
   "source": [
    "<h1>Bigmart - Predicting Sales of a Store</h1>"
   ]
  },
  {
   "cell_type": "code",
   "execution_count": 306,
   "metadata": {},
   "outputs": [],
   "source": [
    "import pandas as pd\n",
    "import numpy as np\n",
    "import matplotlib.pyplot as plt\n",
    "import seaborn as sns\n",
    "from scipy import stats"
   ]
  },
  {
   "cell_type": "code",
   "execution_count": 360,
   "metadata": {},
   "outputs": [],
   "source": [
    "data = pd.read_csv('bigmart/train.csv')"
   ]
  },
  {
   "cell_type": "code",
   "execution_count": 308,
   "metadata": {
    "scrolled": true
   },
   "outputs": [
    {
     "data": {
      "text/html": [
       "<div>\n",
       "<style scoped>\n",
       "    .dataframe tbody tr th:only-of-type {\n",
       "        vertical-align: middle;\n",
       "    }\n",
       "\n",
       "    .dataframe tbody tr th {\n",
       "        vertical-align: top;\n",
       "    }\n",
       "\n",
       "    .dataframe thead th {\n",
       "        text-align: right;\n",
       "    }\n",
       "</style>\n",
       "<table border=\"1\" class=\"dataframe\">\n",
       "  <thead>\n",
       "    <tr style=\"text-align: right;\">\n",
       "      <th></th>\n",
       "      <th>Item_Identifier</th>\n",
       "      <th>Item_Weight</th>\n",
       "      <th>Item_Fat_Content</th>\n",
       "      <th>Item_Visibility</th>\n",
       "      <th>Item_Type</th>\n",
       "      <th>Item_MRP</th>\n",
       "      <th>Outlet_Identifier</th>\n",
       "      <th>Outlet_Establishment_Year</th>\n",
       "      <th>Outlet_Size</th>\n",
       "      <th>Outlet_Location_Type</th>\n",
       "      <th>Outlet_Type</th>\n",
       "      <th>Item_Outlet_Sales</th>\n",
       "    </tr>\n",
       "  </thead>\n",
       "  <tbody>\n",
       "    <tr>\n",
       "      <th>0</th>\n",
       "      <td>FDA15</td>\n",
       "      <td>9.30</td>\n",
       "      <td>Low Fat</td>\n",
       "      <td>0.016047</td>\n",
       "      <td>Dairy</td>\n",
       "      <td>249.8092</td>\n",
       "      <td>OUT049</td>\n",
       "      <td>1999</td>\n",
       "      <td>Medium</td>\n",
       "      <td>Tier 1</td>\n",
       "      <td>Supermarket Type1</td>\n",
       "      <td>3735.1380</td>\n",
       "    </tr>\n",
       "    <tr>\n",
       "      <th>1</th>\n",
       "      <td>DRC01</td>\n",
       "      <td>5.92</td>\n",
       "      <td>Regular</td>\n",
       "      <td>0.019278</td>\n",
       "      <td>Soft Drinks</td>\n",
       "      <td>48.2692</td>\n",
       "      <td>OUT018</td>\n",
       "      <td>2009</td>\n",
       "      <td>Medium</td>\n",
       "      <td>Tier 3</td>\n",
       "      <td>Supermarket Type2</td>\n",
       "      <td>443.4228</td>\n",
       "    </tr>\n",
       "    <tr>\n",
       "      <th>2</th>\n",
       "      <td>FDN15</td>\n",
       "      <td>17.50</td>\n",
       "      <td>Low Fat</td>\n",
       "      <td>0.016760</td>\n",
       "      <td>Meat</td>\n",
       "      <td>141.6180</td>\n",
       "      <td>OUT049</td>\n",
       "      <td>1999</td>\n",
       "      <td>Medium</td>\n",
       "      <td>Tier 1</td>\n",
       "      <td>Supermarket Type1</td>\n",
       "      <td>2097.2700</td>\n",
       "    </tr>\n",
       "    <tr>\n",
       "      <th>3</th>\n",
       "      <td>FDX07</td>\n",
       "      <td>19.20</td>\n",
       "      <td>Regular</td>\n",
       "      <td>0.000000</td>\n",
       "      <td>Fruits and Vegetables</td>\n",
       "      <td>182.0950</td>\n",
       "      <td>OUT010</td>\n",
       "      <td>1998</td>\n",
       "      <td>NaN</td>\n",
       "      <td>Tier 3</td>\n",
       "      <td>Grocery Store</td>\n",
       "      <td>732.3800</td>\n",
       "    </tr>\n",
       "    <tr>\n",
       "      <th>4</th>\n",
       "      <td>NCD19</td>\n",
       "      <td>8.93</td>\n",
       "      <td>Low Fat</td>\n",
       "      <td>0.000000</td>\n",
       "      <td>Household</td>\n",
       "      <td>53.8614</td>\n",
       "      <td>OUT013</td>\n",
       "      <td>1987</td>\n",
       "      <td>High</td>\n",
       "      <td>Tier 3</td>\n",
       "      <td>Supermarket Type1</td>\n",
       "      <td>994.7052</td>\n",
       "    </tr>\n",
       "  </tbody>\n",
       "</table>\n",
       "</div>"
      ],
      "text/plain": [
       "  Item_Identifier  Item_Weight Item_Fat_Content  Item_Visibility  \\\n",
       "0           FDA15         9.30          Low Fat         0.016047   \n",
       "1           DRC01         5.92          Regular         0.019278   \n",
       "2           FDN15        17.50          Low Fat         0.016760   \n",
       "3           FDX07        19.20          Regular         0.000000   \n",
       "4           NCD19         8.93          Low Fat         0.000000   \n",
       "\n",
       "               Item_Type  Item_MRP Outlet_Identifier  \\\n",
       "0                  Dairy  249.8092            OUT049   \n",
       "1            Soft Drinks   48.2692            OUT018   \n",
       "2                   Meat  141.6180            OUT049   \n",
       "3  Fruits and Vegetables  182.0950            OUT010   \n",
       "4              Household   53.8614            OUT013   \n",
       "\n",
       "   Outlet_Establishment_Year Outlet_Size Outlet_Location_Type  \\\n",
       "0                       1999      Medium               Tier 1   \n",
       "1                       2009      Medium               Tier 3   \n",
       "2                       1999      Medium               Tier 1   \n",
       "3                       1998         NaN               Tier 3   \n",
       "4                       1987        High               Tier 3   \n",
       "\n",
       "         Outlet_Type  Item_Outlet_Sales  \n",
       "0  Supermarket Type1          3735.1380  \n",
       "1  Supermarket Type2           443.4228  \n",
       "2  Supermarket Type1          2097.2700  \n",
       "3      Grocery Store           732.3800  \n",
       "4  Supermarket Type1           994.7052  "
      ]
     },
     "execution_count": 308,
     "metadata": {},
     "output_type": "execute_result"
    }
   ],
   "source": [
    "data.head(5)"
   ]
  },
  {
   "cell_type": "markdown",
   "metadata": {},
   "source": [
    "<h2>Exploration of the dataset</h2>"
   ]
  },
  {
   "cell_type": "code",
   "execution_count": 30,
   "metadata": {},
   "outputs": [],
   "source": [
    "def abs_bar_labels():\n",
    "    plt.ylabel('Absolute Frequency')\n",
    "    plt.xticks(rotation = 0)\n",
    "    plt.setp(ax.get_xticklabels(), rotation=30, horizontalalignment='right')\n",
    "    for x in ax.patches:\n",
    "        ax.annotate(x.get_height(), \n",
    "        (x.get_x() + x.get_width()/2., x.get_height()), ha = 'center', va = 'center', xytext = (0, 7), \n",
    "        textcoords = 'offset points', fontsize = 12, color = 'black')\n",
    "\n",
    "def rel_bar_labels():\n",
    "    plt.ylabel('Relative Frequency (%)')\n",
    "    plt.xticks(rotation = 0)\n",
    "    plt.setp(ax1.get_xticklabels(), rotation=30, horizontalalignment='right')\n",
    "    for x in ax1.patches:\n",
    "        ax1.annotate(str(x.get_height()) + '%', \n",
    "        (x.get_x() + x.get_width()/2., x.get_height()), ha = 'center', va = 'center', xytext = (0, 7), \n",
    "        textcoords = 'offset points', fontsize = 12, color = 'black')\n",
    "        \n",
    "def item_count(var, graph):\n",
    "    global ax, ax1\n",
    "    \n",
    "    abs_freq = var.value_counts()\n",
    "    rel_freq = round(var.value_counts(normalize = True)*100, 2)\n",
    "    abs_rel = pd.DataFrame({'absolute': abs_freq, 'relative (%)': rel_freq})    \n",
    "    \n",
    "    display(abs_rel)\n",
    "    \n",
    "    if graph:\n",
    "        ax = abs_freq.plot.bar()\n",
    "        plt.title('Absolute Frequency of %s' %var.name)\n",
    "        abs_bar_labels()\n",
    "        plt.show()\n",
    "\n",
    "        ax1 = rel_freq.plot.bar()\n",
    "        plt.title('Relative Frequency of %s' %var.name)\n",
    "        rel_bar_labels()\n",
    "        plt.show()\n",
    "    "
   ]
  },
  {
   "cell_type": "code",
   "execution_count": 27,
   "metadata": {},
   "outputs": [
    {
     "data": {
      "text/plain": [
       "8523"
      ]
     },
     "execution_count": 27,
     "metadata": {},
     "output_type": "execute_result"
    }
   ],
   "source": [
    "data['Item_Identifier'].count()"
   ]
  },
  {
   "cell_type": "code",
   "execution_count": 34,
   "metadata": {
    "scrolled": true
   },
   "outputs": [
    {
     "data": {
      "text/html": [
       "<div>\n",
       "<style scoped>\n",
       "    .dataframe tbody tr th:only-of-type {\n",
       "        vertical-align: middle;\n",
       "    }\n",
       "\n",
       "    .dataframe tbody tr th {\n",
       "        vertical-align: top;\n",
       "    }\n",
       "\n",
       "    .dataframe thead th {\n",
       "        text-align: right;\n",
       "    }\n",
       "</style>\n",
       "<table border=\"1\" class=\"dataframe\">\n",
       "  <thead>\n",
       "    <tr style=\"text-align: right;\">\n",
       "      <th></th>\n",
       "      <th>absolute</th>\n",
       "      <th>relative (%)</th>\n",
       "    </tr>\n",
       "  </thead>\n",
       "  <tbody>\n",
       "    <tr>\n",
       "      <th>Low Fat</th>\n",
       "      <td>5089</td>\n",
       "      <td>59.71</td>\n",
       "    </tr>\n",
       "    <tr>\n",
       "      <th>Regular</th>\n",
       "      <td>2889</td>\n",
       "      <td>33.90</td>\n",
       "    </tr>\n",
       "    <tr>\n",
       "      <th>LF</th>\n",
       "      <td>316</td>\n",
       "      <td>3.71</td>\n",
       "    </tr>\n",
       "    <tr>\n",
       "      <th>reg</th>\n",
       "      <td>117</td>\n",
       "      <td>1.37</td>\n",
       "    </tr>\n",
       "    <tr>\n",
       "      <th>low fat</th>\n",
       "      <td>112</td>\n",
       "      <td>1.31</td>\n",
       "    </tr>\n",
       "  </tbody>\n",
       "</table>\n",
       "</div>"
      ],
      "text/plain": [
       "         absolute  relative (%)\n",
       "Low Fat      5089         59.71\n",
       "Regular      2889         33.90\n",
       "LF            316          3.71\n",
       "reg           117          1.37\n",
       "low fat       112          1.31"
      ]
     },
     "metadata": {},
     "output_type": "display_data"
    },
    {
     "data": {
      "image/png": "[encoded data removed]",
      "text/plain": [
       "<Figure size 432x288 with 1 Axes>"
      ]
     },
     "metadata": {},
     "output_type": "display_data"
    },
    {
     "data": {
      "image/png": "[encoded data removed]",
      "text/plain": [
       "<Figure size 432x288 with 1 Axes>"
      ]
     },
     "metadata": {},
     "output_type": "display_data"
    }
   ],
   "source": [
    "item_count(data['Item_Fat_Content'], True)"
   ]
  },
  {
   "cell_type": "code",
   "execution_count": 65,
   "metadata": {},
   "outputs": [
    {
     "data": {
      "text/plain": [
       "count    7060.000000\n",
       "mean       12.857645\n",
       "std         4.643456\n",
       "min         4.555000\n",
       "25%         8.773750\n",
       "50%        12.600000\n",
       "75%        16.850000\n",
       "max        21.350000\n",
       "Name: Item_Weight, dtype: float64"
      ]
     },
     "execution_count": 65,
     "metadata": {},
     "output_type": "execute_result"
    }
   ],
   "source": [
    "data['Item_Weight'].describe()"
   ]
  },
  {
   "cell_type": "code",
   "execution_count": 35,
   "metadata": {},
   "outputs": [
    {
     "data": {
      "text/html": [
       "<div>\n",
       "<style scoped>\n",
       "    .dataframe tbody tr th:only-of-type {\n",
       "        vertical-align: middle;\n",
       "    }\n",
       "\n",
       "    .dataframe tbody tr th {\n",
       "        vertical-align: top;\n",
       "    }\n",
       "\n",
       "    .dataframe thead th {\n",
       "        text-align: right;\n",
       "    }\n",
       "</style>\n",
       "<table border=\"1\" class=\"dataframe\">\n",
       "  <thead>\n",
       "    <tr style=\"text-align: right;\">\n",
       "      <th></th>\n",
       "      <th>absolute</th>\n",
       "      <th>relative (%)</th>\n",
       "    </tr>\n",
       "  </thead>\n",
       "  <tbody>\n",
       "    <tr>\n",
       "      <th>Fruits and Vegetables</th>\n",
       "      <td>1232</td>\n",
       "      <td>14.46</td>\n",
       "    </tr>\n",
       "    <tr>\n",
       "      <th>Snack Foods</th>\n",
       "      <td>1200</td>\n",
       "      <td>14.08</td>\n",
       "    </tr>\n",
       "    <tr>\n",
       "      <th>Household</th>\n",
       "      <td>910</td>\n",
       "      <td>10.68</td>\n",
       "    </tr>\n",
       "    <tr>\n",
       "      <th>Frozen Foods</th>\n",
       "      <td>856</td>\n",
       "      <td>10.04</td>\n",
       "    </tr>\n",
       "    <tr>\n",
       "      <th>Dairy</th>\n",
       "      <td>682</td>\n",
       "      <td>8.00</td>\n",
       "    </tr>\n",
       "    <tr>\n",
       "      <th>Canned</th>\n",
       "      <td>649</td>\n",
       "      <td>7.61</td>\n",
       "    </tr>\n",
       "    <tr>\n",
       "      <th>Baking Goods</th>\n",
       "      <td>648</td>\n",
       "      <td>7.60</td>\n",
       "    </tr>\n",
       "    <tr>\n",
       "      <th>Health and Hygiene</th>\n",
       "      <td>520</td>\n",
       "      <td>6.10</td>\n",
       "    </tr>\n",
       "    <tr>\n",
       "      <th>Soft Drinks</th>\n",
       "      <td>445</td>\n",
       "      <td>5.22</td>\n",
       "    </tr>\n",
       "    <tr>\n",
       "      <th>Meat</th>\n",
       "      <td>425</td>\n",
       "      <td>4.99</td>\n",
       "    </tr>\n",
       "    <tr>\n",
       "      <th>Breads</th>\n",
       "      <td>251</td>\n",
       "      <td>2.94</td>\n",
       "    </tr>\n",
       "    <tr>\n",
       "      <th>Hard Drinks</th>\n",
       "      <td>214</td>\n",
       "      <td>2.51</td>\n",
       "    </tr>\n",
       "    <tr>\n",
       "      <th>Others</th>\n",
       "      <td>169</td>\n",
       "      <td>1.98</td>\n",
       "    </tr>\n",
       "    <tr>\n",
       "      <th>Starchy Foods</th>\n",
       "      <td>148</td>\n",
       "      <td>1.74</td>\n",
       "    </tr>\n",
       "    <tr>\n",
       "      <th>Breakfast</th>\n",
       "      <td>110</td>\n",
       "      <td>1.29</td>\n",
       "    </tr>\n",
       "    <tr>\n",
       "      <th>Seafood</th>\n",
       "      <td>64</td>\n",
       "      <td>0.75</td>\n",
       "    </tr>\n",
       "  </tbody>\n",
       "</table>\n",
       "</div>"
      ],
      "text/plain": [
       "                       absolute  relative (%)\n",
       "Fruits and Vegetables      1232         14.46\n",
       "Snack Foods                1200         14.08\n",
       "Household                   910         10.68\n",
       "Frozen Foods                856         10.04\n",
       "Dairy                       682          8.00\n",
       "Canned                      649          7.61\n",
       "Baking Goods                648          7.60\n",
       "Health and Hygiene          520          6.10\n",
       "Soft Drinks                 445          5.22\n",
       "Meat                        425          4.99\n",
       "Breads                      251          2.94\n",
       "Hard Drinks                 214          2.51\n",
       "Others                      169          1.98\n",
       "Starchy Foods               148          1.74\n",
       "Breakfast                   110          1.29\n",
       "Seafood                      64          0.75"
      ]
     },
     "metadata": {},
     "output_type": "display_data"
    }
   ],
   "source": [
    "item_count(data['Item_Type'], False)"
   ]
  },
  {
   "cell_type": "code",
   "execution_count": 37,
   "metadata": {},
   "outputs": [
    {
     "data": {
      "text/html": [
       "<div>\n",
       "<style scoped>\n",
       "    .dataframe tbody tr th:only-of-type {\n",
       "        vertical-align: middle;\n",
       "    }\n",
       "\n",
       "    .dataframe tbody tr th {\n",
       "        vertical-align: top;\n",
       "    }\n",
       "\n",
       "    .dataframe thead th {\n",
       "        text-align: right;\n",
       "    }\n",
       "</style>\n",
       "<table border=\"1\" class=\"dataframe\">\n",
       "  <thead>\n",
       "    <tr style=\"text-align: right;\">\n",
       "      <th></th>\n",
       "      <th>absolute</th>\n",
       "      <th>relative (%)</th>\n",
       "    </tr>\n",
       "  </thead>\n",
       "  <tbody>\n",
       "    <tr>\n",
       "      <th>Medium</th>\n",
       "      <td>2793</td>\n",
       "      <td>45.69</td>\n",
       "    </tr>\n",
       "    <tr>\n",
       "      <th>Small</th>\n",
       "      <td>2388</td>\n",
       "      <td>39.06</td>\n",
       "    </tr>\n",
       "    <tr>\n",
       "      <th>High</th>\n",
       "      <td>932</td>\n",
       "      <td>15.25</td>\n",
       "    </tr>\n",
       "  </tbody>\n",
       "</table>\n",
       "</div>"
      ],
      "text/plain": [
       "        absolute  relative (%)\n",
       "Medium      2793         45.69\n",
       "Small       2388         39.06\n",
       "High         932         15.25"
      ]
     },
     "metadata": {},
     "output_type": "display_data"
    },
    {
     "data": {
      "image/png": "[encoded data removed]",
      "text/plain": [
       "<Figure size 432x288 with 1 Axes>"
      ]
     },
     "metadata": {},
     "output_type": "display_data"
    },
    {
     "data": {
      "image/png": "[encoded data removed]",
      "text/plain": [
       "<Figure size 432x288 with 1 Axes>"
      ]
     },
     "metadata": {},
     "output_type": "display_data"
    }
   ],
   "source": [
    "item_count(data['Outlet_Size'], True)"
   ]
  },
  {
   "cell_type": "code",
   "execution_count": 23,
   "metadata": {},
   "outputs": [
    {
     "data": {
      "text/html": [
       "<div>\n",
       "<style scoped>\n",
       "    .dataframe tbody tr th:only-of-type {\n",
       "        vertical-align: middle;\n",
       "    }\n",
       "\n",
       "    .dataframe tbody tr th {\n",
       "        vertical-align: top;\n",
       "    }\n",
       "\n",
       "    .dataframe thead th {\n",
       "        text-align: right;\n",
       "    }\n",
       "</style>\n",
       "<table border=\"1\" class=\"dataframe\">\n",
       "  <thead>\n",
       "    <tr style=\"text-align: right;\">\n",
       "      <th></th>\n",
       "      <th>absolute</th>\n",
       "      <th>relative (%)</th>\n",
       "    </tr>\n",
       "  </thead>\n",
       "  <tbody>\n",
       "    <tr>\n",
       "      <th>Tier 3</th>\n",
       "      <td>3350</td>\n",
       "      <td>39.31</td>\n",
       "    </tr>\n",
       "    <tr>\n",
       "      <th>Tier 2</th>\n",
       "      <td>2785</td>\n",
       "      <td>32.68</td>\n",
       "    </tr>\n",
       "    <tr>\n",
       "      <th>Tier 1</th>\n",
       "      <td>2388</td>\n",
       "      <td>28.02</td>\n",
       "    </tr>\n",
       "  </tbody>\n",
       "</table>\n",
       "</div>"
      ],
      "text/plain": [
       "        absolute  relative (%)\n",
       "Tier 3      3350         39.31\n",
       "Tier 2      2785         32.68\n",
       "Tier 1      2388         28.02"
      ]
     },
     "metadata": {},
     "output_type": "display_data"
    },
    {
     "data": {
      "image/png": "[encoded data removed]",
      "text/plain": [
       "<Figure size 432x288 with 1 Axes>"
      ]
     },
     "metadata": {},
     "output_type": "display_data"
    },
    {
     "data": {
      "image/png": "[encoded data removed]",
      "text/plain": [
       "<Figure size 432x288 with 1 Axes>"
      ]
     },
     "metadata": {},
     "output_type": "display_data"
    }
   ],
   "source": [
    "item_count(data['Outlet_Location_Type'])"
   ]
  },
  {
   "cell_type": "code",
   "execution_count": 38,
   "metadata": {},
   "outputs": [
    {
     "data": {
      "text/html": [
       "<div>\n",
       "<style scoped>\n",
       "    .dataframe tbody tr th:only-of-type {\n",
       "        vertical-align: middle;\n",
       "    }\n",
       "\n",
       "    .dataframe tbody tr th {\n",
       "        vertical-align: top;\n",
       "    }\n",
       "\n",
       "    .dataframe thead th {\n",
       "        text-align: right;\n",
       "    }\n",
       "</style>\n",
       "<table border=\"1\" class=\"dataframe\">\n",
       "  <thead>\n",
       "    <tr style=\"text-align: right;\">\n",
       "      <th></th>\n",
       "      <th>absolute</th>\n",
       "      <th>relative (%)</th>\n",
       "    </tr>\n",
       "  </thead>\n",
       "  <tbody>\n",
       "    <tr>\n",
       "      <th>Supermarket Type1</th>\n",
       "      <td>5577</td>\n",
       "      <td>65.43</td>\n",
       "    </tr>\n",
       "    <tr>\n",
       "      <th>Grocery Store</th>\n",
       "      <td>1083</td>\n",
       "      <td>12.71</td>\n",
       "    </tr>\n",
       "    <tr>\n",
       "      <th>Supermarket Type3</th>\n",
       "      <td>935</td>\n",
       "      <td>10.97</td>\n",
       "    </tr>\n",
       "    <tr>\n",
       "      <th>Supermarket Type2</th>\n",
       "      <td>928</td>\n",
       "      <td>10.89</td>\n",
       "    </tr>\n",
       "  </tbody>\n",
       "</table>\n",
       "</div>"
      ],
      "text/plain": [
       "                   absolute  relative (%)\n",
       "Supermarket Type1      5577         65.43\n",
       "Grocery Store          1083         12.71\n",
       "Supermarket Type3       935         10.97\n",
       "Supermarket Type2       928         10.89"
      ]
     },
     "metadata": {},
     "output_type": "display_data"
    },
    {
     "data": {
      "image/png": "[encoded data removed]",
      "text/plain": [
       "<Figure size 432x288 with 1 Axes>"
      ]
     },
     "metadata": {},
     "output_type": "display_data"
    },
    {
     "data": {
      "image/png": "[encoded data removed]",
      "text/plain": [
       "<Figure size 432x288 with 1 Axes>"
      ]
     },
     "metadata": {},
     "output_type": "display_data"
    }
   ],
   "source": [
    "item_count(data['Outlet_Type'], True)"
   ]
  },
  {
   "cell_type": "code",
   "execution_count": 39,
   "metadata": {},
   "outputs": [
    {
     "data": {
      "text/html": [
       "<div>\n",
       "<style scoped>\n",
       "    .dataframe tbody tr th:only-of-type {\n",
       "        vertical-align: middle;\n",
       "    }\n",
       "\n",
       "    .dataframe tbody tr th {\n",
       "        vertical-align: top;\n",
       "    }\n",
       "\n",
       "    .dataframe thead th {\n",
       "        text-align: right;\n",
       "    }\n",
       "</style>\n",
       "<table border=\"1\" class=\"dataframe\">\n",
       "  <thead>\n",
       "    <tr style=\"text-align: right;\">\n",
       "      <th></th>\n",
       "      <th>absolute</th>\n",
       "      <th>relative (%)</th>\n",
       "    </tr>\n",
       "  </thead>\n",
       "  <tbody>\n",
       "    <tr>\n",
       "      <th>OUT027</th>\n",
       "      <td>935</td>\n",
       "      <td>10.97</td>\n",
       "    </tr>\n",
       "    <tr>\n",
       "      <th>OUT013</th>\n",
       "      <td>932</td>\n",
       "      <td>10.94</td>\n",
       "    </tr>\n",
       "    <tr>\n",
       "      <th>OUT049</th>\n",
       "      <td>930</td>\n",
       "      <td>10.91</td>\n",
       "    </tr>\n",
       "    <tr>\n",
       "      <th>OUT035</th>\n",
       "      <td>930</td>\n",
       "      <td>10.91</td>\n",
       "    </tr>\n",
       "    <tr>\n",
       "      <th>OUT046</th>\n",
       "      <td>930</td>\n",
       "      <td>10.91</td>\n",
       "    </tr>\n",
       "    <tr>\n",
       "      <th>OUT045</th>\n",
       "      <td>929</td>\n",
       "      <td>10.90</td>\n",
       "    </tr>\n",
       "    <tr>\n",
       "      <th>OUT018</th>\n",
       "      <td>928</td>\n",
       "      <td>10.89</td>\n",
       "    </tr>\n",
       "    <tr>\n",
       "      <th>OUT017</th>\n",
       "      <td>926</td>\n",
       "      <td>10.86</td>\n",
       "    </tr>\n",
       "    <tr>\n",
       "      <th>OUT010</th>\n",
       "      <td>555</td>\n",
       "      <td>6.51</td>\n",
       "    </tr>\n",
       "    <tr>\n",
       "      <th>OUT019</th>\n",
       "      <td>528</td>\n",
       "      <td>6.20</td>\n",
       "    </tr>\n",
       "  </tbody>\n",
       "</table>\n",
       "</div>"
      ],
      "text/plain": [
       "        absolute  relative (%)\n",
       "OUT027       935         10.97\n",
       "OUT013       932         10.94\n",
       "OUT049       930         10.91\n",
       "OUT035       930         10.91\n",
       "OUT046       930         10.91\n",
       "OUT045       929         10.90\n",
       "OUT018       928         10.89\n",
       "OUT017       926         10.86\n",
       "OUT010       555          6.51\n",
       "OUT019       528          6.20"
      ]
     },
     "metadata": {},
     "output_type": "display_data"
    },
    {
     "data": {
      "text/plain": [
       "8523"
      ]
     },
     "execution_count": 39,
     "metadata": {},
     "output_type": "execute_result"
    }
   ],
   "source": [
    "item_count(data['Outlet_Identifier'], False)\n",
    "\n",
    "data['Outlet_Identifier'].count()"
   ]
  },
  {
   "cell_type": "code",
   "execution_count": 25,
   "metadata": {},
   "outputs": [
    {
     "data": {
      "text/plain": [
       "count    8523.000000\n",
       "mean      140.992782\n",
       "std        62.275067\n",
       "min        31.290000\n",
       "25%        93.826500\n",
       "50%       143.012800\n",
       "75%       185.643700\n",
       "max       266.888400\n",
       "Name: Item_MRP, dtype: float64"
      ]
     },
     "execution_count": 25,
     "metadata": {},
     "output_type": "execute_result"
    }
   ],
   "source": [
    "data['Item_MRP'].describe()"
   ]
  },
  {
   "cell_type": "code",
   "execution_count": 52,
   "metadata": {},
   "outputs": [
    {
     "data": {
      "text/html": [
       "<div>\n",
       "<style scoped>\n",
       "    .dataframe tbody tr th:only-of-type {\n",
       "        vertical-align: middle;\n",
       "    }\n",
       "\n",
       "    .dataframe tbody tr th {\n",
       "        vertical-align: top;\n",
       "    }\n",
       "\n",
       "    .dataframe thead th {\n",
       "        text-align: right;\n",
       "    }\n",
       "</style>\n",
       "<table border=\"1\" class=\"dataframe\">\n",
       "  <thead>\n",
       "    <tr style=\"text-align: right;\">\n",
       "      <th></th>\n",
       "      <th>Item_Identifier</th>\n",
       "      <th>Item_Weight</th>\n",
       "      <th>Item_Fat_Content</th>\n",
       "      <th>Item_Visibility</th>\n",
       "      <th>Item_Type</th>\n",
       "      <th>Item_MRP</th>\n",
       "      <th>Outlet_Identifier</th>\n",
       "      <th>Outlet_Establishment_Year</th>\n",
       "      <th>Outlet_Size</th>\n",
       "      <th>Outlet_Location_Type</th>\n",
       "      <th>Outlet_Type</th>\n",
       "      <th>Item_Outlet_Sales</th>\n",
       "    </tr>\n",
       "  </thead>\n",
       "  <tbody>\n",
       "    <tr>\n",
       "      <th>7</th>\n",
       "      <td>FDP10</td>\n",
       "      <td>NaN</td>\n",
       "      <td>Low Fat</td>\n",
       "      <td>0.127470</td>\n",
       "      <td>Snack Foods</td>\n",
       "      <td>107.7622</td>\n",
       "      <td>OUT027</td>\n",
       "      <td>1985</td>\n",
       "      <td>Medium</td>\n",
       "      <td>Tier 3</td>\n",
       "      <td>Supermarket Type3</td>\n",
       "      <td>4022.7636</td>\n",
       "    </tr>\n",
       "    <tr>\n",
       "      <th>18</th>\n",
       "      <td>DRI11</td>\n",
       "      <td>NaN</td>\n",
       "      <td>Low Fat</td>\n",
       "      <td>0.034238</td>\n",
       "      <td>Hard Drinks</td>\n",
       "      <td>113.2834</td>\n",
       "      <td>OUT027</td>\n",
       "      <td>1985</td>\n",
       "      <td>Medium</td>\n",
       "      <td>Tier 3</td>\n",
       "      <td>Supermarket Type3</td>\n",
       "      <td>2303.6680</td>\n",
       "    </tr>\n",
       "    <tr>\n",
       "      <th>21</th>\n",
       "      <td>FDW12</td>\n",
       "      <td>NaN</td>\n",
       "      <td>Regular</td>\n",
       "      <td>0.035400</td>\n",
       "      <td>Baking Goods</td>\n",
       "      <td>144.5444</td>\n",
       "      <td>OUT027</td>\n",
       "      <td>1985</td>\n",
       "      <td>Medium</td>\n",
       "      <td>Tier 3</td>\n",
       "      <td>Supermarket Type3</td>\n",
       "      <td>4064.0432</td>\n",
       "    </tr>\n",
       "    <tr>\n",
       "      <th>36</th>\n",
       "      <td>FDV20</td>\n",
       "      <td>NaN</td>\n",
       "      <td>Regular</td>\n",
       "      <td>0.059512</td>\n",
       "      <td>Fruits and Vegetables</td>\n",
       "      <td>128.0678</td>\n",
       "      <td>OUT027</td>\n",
       "      <td>1985</td>\n",
       "      <td>Medium</td>\n",
       "      <td>Tier 3</td>\n",
       "      <td>Supermarket Type3</td>\n",
       "      <td>2797.6916</td>\n",
       "    </tr>\n",
       "    <tr>\n",
       "      <th>38</th>\n",
       "      <td>FDX10</td>\n",
       "      <td>NaN</td>\n",
       "      <td>Regular</td>\n",
       "      <td>0.123111</td>\n",
       "      <td>Snack Foods</td>\n",
       "      <td>36.9874</td>\n",
       "      <td>OUT027</td>\n",
       "      <td>1985</td>\n",
       "      <td>Medium</td>\n",
       "      <td>Tier 3</td>\n",
       "      <td>Supermarket Type3</td>\n",
       "      <td>388.1614</td>\n",
       "    </tr>\n",
       "  </tbody>\n",
       "</table>\n",
       "</div>"
      ],
      "text/plain": [
       "   Item_Identifier  Item_Weight Item_Fat_Content  Item_Visibility  \\\n",
       "7            FDP10          NaN          Low Fat         0.127470   \n",
       "18           DRI11          NaN          Low Fat         0.034238   \n",
       "21           FDW12          NaN          Regular         0.035400   \n",
       "36           FDV20          NaN          Regular         0.059512   \n",
       "38           FDX10          NaN          Regular         0.123111   \n",
       "\n",
       "                Item_Type  Item_MRP Outlet_Identifier  \\\n",
       "7             Snack Foods  107.7622            OUT027   \n",
       "18            Hard Drinks  113.2834            OUT027   \n",
       "21           Baking Goods  144.5444            OUT027   \n",
       "36  Fruits and Vegetables  128.0678            OUT027   \n",
       "38            Snack Foods   36.9874            OUT027   \n",
       "\n",
       "    Outlet_Establishment_Year Outlet_Size Outlet_Location_Type  \\\n",
       "7                        1985      Medium               Tier 3   \n",
       "18                       1985      Medium               Tier 3   \n",
       "21                       1985      Medium               Tier 3   \n",
       "36                       1985      Medium               Tier 3   \n",
       "38                       1985      Medium               Tier 3   \n",
       "\n",
       "          Outlet_Type  Item_Outlet_Sales  \n",
       "7   Supermarket Type3          4022.7636  \n",
       "18  Supermarket Type3          2303.6680  \n",
       "21  Supermarket Type3          4064.0432  \n",
       "36  Supermarket Type3          2797.6916  \n",
       "38  Supermarket Type3           388.1614  "
      ]
     },
     "execution_count": 52,
     "metadata": {},
     "output_type": "execute_result"
    }
   ],
   "source": [
    "test_store = data[data['Outlet_Identifier'] == 'OUT027']\n",
    "\n",
    "test_store.head(5)"
   ]
  },
  {
   "cell_type": "code",
   "execution_count": 66,
   "metadata": {
    "scrolled": true
   },
   "outputs": [
    {
     "data": {
      "text/plain": [
       "count     8523.000000\n",
       "mean      2181.288914\n",
       "std       1706.499616\n",
       "min         33.290000\n",
       "25%        834.247400\n",
       "50%       1794.331000\n",
       "75%       3101.296400\n",
       "max      13086.964800\n",
       "Name: Item_Outlet_Sales, dtype: float64"
      ]
     },
     "execution_count": 66,
     "metadata": {},
     "output_type": "execute_result"
    }
   ],
   "source": [
    "data['Item_Outlet_Sales'].describe()"
   ]
  },
  {
   "cell_type": "code",
   "execution_count": 57,
   "metadata": {},
   "outputs": [
    {
     "data": {
      "text/plain": [
       "array(['OUT049', 'OUT018', 'OUT010', 'OUT013', 'OUT027', 'OUT045',\n",
       "       'OUT017', 'OUT046', 'OUT035', 'OUT019'], dtype=object)"
      ]
     },
     "metadata": {},
     "output_type": "display_data"
    },
    {
     "data": {
      "text/plain": [
       "Item_Identifier                          FDA15\n",
       "Item_Weight                                9.3\n",
       "Item_Fat_Content                       Low Fat\n",
       "Item_Visibility                      0.0160473\n",
       "Item_Type                                Dairy\n",
       "Item_MRP                               249.809\n",
       "Outlet_Identifier                       OUT049\n",
       "Outlet_Establishment_Year                 1999\n",
       "Outlet_Size                             Medium\n",
       "Outlet_Location_Type                    Tier 1\n",
       "Outlet_Type                  Supermarket Type1\n",
       "Item_Outlet_Sales                      3735.14\n",
       "Name: 0, dtype: object"
      ]
     },
     "metadata": {},
     "output_type": "display_data"
    },
    {
     "data": {
      "text/plain": [
       "Item_Identifier                          DRC01\n",
       "Item_Weight                               5.92\n",
       "Item_Fat_Content                       Regular\n",
       "Item_Visibility                      0.0192782\n",
       "Item_Type                          Soft Drinks\n",
       "Item_MRP                               48.2692\n",
       "Outlet_Identifier                       OUT018\n",
       "Outlet_Establishment_Year                 2009\n",
       "Outlet_Size                             Medium\n",
       "Outlet_Location_Type                    Tier 3\n",
       "Outlet_Type                  Supermarket Type2\n",
       "Item_Outlet_Sales                      443.423\n",
       "Name: 1, dtype: object"
      ]
     },
     "metadata": {},
     "output_type": "display_data"
    },
    {
     "data": {
      "text/plain": [
       "Item_Identifier                              FDX07\n",
       "Item_Weight                                   19.2\n",
       "Item_Fat_Content                           Regular\n",
       "Item_Visibility                                  0\n",
       "Item_Type                    Fruits and Vegetables\n",
       "Item_MRP                                   182.095\n",
       "Outlet_Identifier                           OUT010\n",
       "Outlet_Establishment_Year                     1998\n",
       "Outlet_Size                                    NaN\n",
       "Outlet_Location_Type                        Tier 3\n",
       "Outlet_Type                          Grocery Store\n",
       "Item_Outlet_Sales                           732.38\n",
       "Name: 3, dtype: object"
      ]
     },
     "metadata": {},
     "output_type": "display_data"
    },
    {
     "data": {
      "text/plain": [
       "Item_Identifier                          NCD19\n",
       "Item_Weight                               8.93\n",
       "Item_Fat_Content                       Low Fat\n",
       "Item_Visibility                              0\n",
       "Item_Type                            Household\n",
       "Item_MRP                               53.8614\n",
       "Outlet_Identifier                       OUT013\n",
       "Outlet_Establishment_Year                 1987\n",
       "Outlet_Size                               High\n",
       "Outlet_Location_Type                    Tier 3\n",
       "Outlet_Type                  Supermarket Type1\n",
       "Item_Outlet_Sales                      994.705\n",
       "Name: 4, dtype: object"
      ]
     },
     "metadata": {},
     "output_type": "display_data"
    },
    {
     "data": {
      "text/plain": [
       "Item_Identifier                          FDP10\n",
       "Item_Weight                                NaN\n",
       "Item_Fat_Content                       Low Fat\n",
       "Item_Visibility                        0.12747\n",
       "Item_Type                          Snack Foods\n",
       "Item_MRP                               107.762\n",
       "Outlet_Identifier                       OUT027\n",
       "Outlet_Establishment_Year                 1985\n",
       "Outlet_Size                             Medium\n",
       "Outlet_Location_Type                    Tier 3\n",
       "Outlet_Type                  Supermarket Type3\n",
       "Item_Outlet_Sales                      4022.76\n",
       "Name: 7, dtype: object"
      ]
     },
     "metadata": {},
     "output_type": "display_data"
    },
    {
     "data": {
      "text/plain": [
       "Item_Identifier                          FDH17\n",
       "Item_Weight                               16.2\n",
       "Item_Fat_Content                       Regular\n",
       "Item_Visibility                      0.0166871\n",
       "Item_Type                         Frozen Foods\n",
       "Item_MRP                               96.9726\n",
       "Outlet_Identifier                       OUT045\n",
       "Outlet_Establishment_Year                 2002\n",
       "Outlet_Size                                NaN\n",
       "Outlet_Location_Type                    Tier 2\n",
       "Outlet_Type                  Supermarket Type1\n",
       "Item_Outlet_Sales                       1076.6\n",
       "Name: 8, dtype: object"
      ]
     },
     "metadata": {},
     "output_type": "display_data"
    },
    {
     "data": {
      "text/plain": [
       "Item_Identifier                          FDU28\n",
       "Item_Weight                               19.2\n",
       "Item_Fat_Content                       Regular\n",
       "Item_Visibility                      0.0944496\n",
       "Item_Type                         Frozen Foods\n",
       "Item_MRP                               187.821\n",
       "Outlet_Identifier                       OUT017\n",
       "Outlet_Establishment_Year                 2007\n",
       "Outlet_Size                                NaN\n",
       "Outlet_Location_Type                    Tier 2\n",
       "Outlet_Type                  Supermarket Type1\n",
       "Item_Outlet_Sales                      4710.53\n",
       "Name: 9, dtype: object"
      ]
     },
     "metadata": {},
     "output_type": "display_data"
    },
    {
     "data": {
      "text/plain": [
       "Item_Identifier                          FDA03\n",
       "Item_Weight                               18.5\n",
       "Item_Fat_Content                       Regular\n",
       "Item_Visibility                      0.0454638\n",
       "Item_Type                                Dairy\n",
       "Item_MRP                                144.11\n",
       "Outlet_Identifier                       OUT046\n",
       "Outlet_Establishment_Year                 1997\n",
       "Outlet_Size                              Small\n",
       "Outlet_Location_Type                    Tier 1\n",
       "Outlet_Type                  Supermarket Type1\n",
       "Item_Outlet_Sales                      2187.15\n",
       "Name: 11, dtype: object"
      ]
     },
     "metadata": {},
     "output_type": "display_data"
    },
    {
     "data": {
      "text/plain": [
       "Item_Identifier                          FDU02\n",
       "Item_Weight                              13.35\n",
       "Item_Fat_Content                       Low Fat\n",
       "Item_Visibility                       0.102492\n",
       "Item_Type                                Dairy\n",
       "Item_MRP                               230.535\n",
       "Outlet_Identifier                       OUT035\n",
       "Outlet_Establishment_Year                 2004\n",
       "Outlet_Size                              Small\n",
       "Outlet_Location_Type                    Tier 2\n",
       "Outlet_Type                  Supermarket Type1\n",
       "Item_Outlet_Sales                      2748.42\n",
       "Name: 19, dtype: object"
      ]
     },
     "metadata": {},
     "output_type": "display_data"
    },
    {
     "data": {
      "text/plain": [
       "Item_Identifier                      FDC37\n",
       "Item_Weight                            NaN\n",
       "Item_Fat_Content                   Low Fat\n",
       "Item_Visibility                   0.057557\n",
       "Item_Type                     Baking Goods\n",
       "Item_MRP                           107.694\n",
       "Outlet_Identifier                   OUT019\n",
       "Outlet_Establishment_Year             1985\n",
       "Outlet_Size                          Small\n",
       "Outlet_Location_Type                Tier 1\n",
       "Outlet_Type                  Grocery Store\n",
       "Item_Outlet_Sales                  214.388\n",
       "Name: 23, dtype: object"
      ]
     },
     "metadata": {},
     "output_type": "display_data"
    }
   ],
   "source": [
    "arr = data['Outlet_Identifier'].unique()\n",
    "\n",
    "for i in arr:\n",
    "     display(data[data['Outlet_Identifier'] == i].iloc[0])"
   ]
  },
  {
   "cell_type": "markdown",
   "metadata": {},
   "source": [
    "<h2>Important Findings</h2>\n",
    "<br>\n",
    "There are much more low fat items compared to regular items. In that column however there is a lack of consistency in terms of naming, example LF is the same as low fat. We will need to combine such values. For the category of items available, currently it does not add more value but maybe looking at their prices will shed some light on how they may impact final sale totals for stores. \n",
    "\n",
    "We also see that this dataset is made up of the sales across 10 stores. One issue about store factors is the size, we are missing 2401 entries here, specifically for store identifiers OUT010, OUT017 and OUT045. Looking at other data in those rows for example location type and outlet type, I would guess that those 3 would be in the small category of outlets but filling in 2401 entries with a guess does not seem too pleasant. I may leave this column out. \n",
    "\n",
    "Weight is missing 1463 entries, I can probably match the ones missing with items that have similar features or I could input those fields with the mean weights as to not change our data too much. "
   ]
  },
  {
   "cell_type": "code",
   "execution_count": 64,
   "metadata": {},
   "outputs": [
    {
     "name": "stdout",
     "output_type": "stream",
     "text": [
      "There are  0  empty values in Item_Identifier column\n",
      "There are  1463  empty values in Item_Weight column\n",
      "There are  0  empty values in Item_Fat_Content column\n",
      "There are  0  empty values in Item_Visibility column\n",
      "There are  0  empty values in Item_Type column\n",
      "There are  0  empty values in Item_MRP column\n",
      "There are  0  empty values in Outlet_Identifier column\n",
      "There are  0  empty values in Outlet_Establishment_Year column\n",
      "There are  2410  empty values in Outlet_Size column\n",
      "There are  0  empty values in Outlet_Location_Type column\n",
      "There are  0  empty values in Outlet_Type column\n",
      "There are  0  empty values in Item_Outlet_Sales column\n"
     ]
    }
   ],
   "source": [
    "columns = list(data.columns.values)\n",
    "\n",
    "for i in columns:\n",
    "    nulls = data[i].isnull().sum()\n",
    "    print(\"There are \", nulls, \" empty values in\", i, \"column\")"
   ]
  },
  {
   "cell_type": "markdown",
   "metadata": {},
   "source": [
    "<h2>Feature Corrections</h2>"
   ]
  },
  {
   "cell_type": "code",
   "execution_count": 325,
   "metadata": {},
   "outputs": [],
   "source": [
    "data['Item_Fat_Content'].replace(['LF', 'low fat'], 'Low Fat', inplace=True)\n",
    "data['Item_Fat_Content'].replace('reg', 'Regular', inplace=True)"
   ]
  },
  {
   "cell_type": "code",
   "execution_count": 326,
   "metadata": {},
   "outputs": [
    {
     "data": {
      "text/html": [
       "<div>\n",
       "<style scoped>\n",
       "    .dataframe tbody tr th:only-of-type {\n",
       "        vertical-align: middle;\n",
       "    }\n",
       "\n",
       "    .dataframe tbody tr th {\n",
       "        vertical-align: top;\n",
       "    }\n",
       "\n",
       "    .dataframe thead th {\n",
       "        text-align: right;\n",
       "    }\n",
       "</style>\n",
       "<table border=\"1\" class=\"dataframe\">\n",
       "  <thead>\n",
       "    <tr style=\"text-align: right;\">\n",
       "      <th></th>\n",
       "      <th>absolute</th>\n",
       "      <th>relative (%)</th>\n",
       "    </tr>\n",
       "  </thead>\n",
       "  <tbody>\n",
       "    <tr>\n",
       "      <th>Low Fat</th>\n",
       "      <td>5517</td>\n",
       "      <td>64.73</td>\n",
       "    </tr>\n",
       "    <tr>\n",
       "      <th>Regular</th>\n",
       "      <td>3006</td>\n",
       "      <td>35.27</td>\n",
       "    </tr>\n",
       "  </tbody>\n",
       "</table>\n",
       "</div>"
      ],
      "text/plain": [
       "         absolute  relative (%)\n",
       "Low Fat      5517         64.73\n",
       "Regular      3006         35.27"
      ]
     },
     "metadata": {},
     "output_type": "display_data"
    }
   ],
   "source": [
    "item_count(data['Item_Fat_Content'], False)"
   ]
  },
  {
   "cell_type": "code",
   "execution_count": 327,
   "metadata": {},
   "outputs": [],
   "source": [
    "median_weight = data['Item_Weight'].median()\n",
    "\n",
    "data['Item_Weight'].fillna(median_weight, inplace=True)"
   ]
  },
  {
   "cell_type": "code",
   "execution_count": 328,
   "metadata": {},
   "outputs": [
    {
     "data": {
      "text/html": [
       "<div>\n",
       "<style scoped>\n",
       "    .dataframe tbody tr th:only-of-type {\n",
       "        vertical-align: middle;\n",
       "    }\n",
       "\n",
       "    .dataframe tbody tr th {\n",
       "        vertical-align: top;\n",
       "    }\n",
       "\n",
       "    .dataframe thead th {\n",
       "        text-align: right;\n",
       "    }\n",
       "</style>\n",
       "<table border=\"1\" class=\"dataframe\">\n",
       "  <thead>\n",
       "    <tr style=\"text-align: right;\">\n",
       "      <th></th>\n",
       "      <th>Item_Identifier</th>\n",
       "      <th>Item_Weight</th>\n",
       "      <th>Item_Fat_Content</th>\n",
       "      <th>Item_Visibility</th>\n",
       "      <th>Item_Type</th>\n",
       "      <th>Item_MRP</th>\n",
       "      <th>Outlet_Identifier</th>\n",
       "      <th>Outlet_Establishment_Year</th>\n",
       "      <th>Outlet_Location_Type</th>\n",
       "      <th>Outlet_Type</th>\n",
       "      <th>Item_Outlet_Sales</th>\n",
       "    </tr>\n",
       "  </thead>\n",
       "  <tbody>\n",
       "    <tr>\n",
       "      <th>0</th>\n",
       "      <td>FDA15</td>\n",
       "      <td>9.300</td>\n",
       "      <td>Low Fat</td>\n",
       "      <td>0.016047</td>\n",
       "      <td>Dairy</td>\n",
       "      <td>249.8092</td>\n",
       "      <td>OUT049</td>\n",
       "      <td>1999</td>\n",
       "      <td>Tier 1</td>\n",
       "      <td>Supermarket Type1</td>\n",
       "      <td>3735.1380</td>\n",
       "    </tr>\n",
       "    <tr>\n",
       "      <th>1</th>\n",
       "      <td>DRC01</td>\n",
       "      <td>5.920</td>\n",
       "      <td>Regular</td>\n",
       "      <td>0.019278</td>\n",
       "      <td>Soft Drinks</td>\n",
       "      <td>48.2692</td>\n",
       "      <td>OUT018</td>\n",
       "      <td>2009</td>\n",
       "      <td>Tier 3</td>\n",
       "      <td>Supermarket Type2</td>\n",
       "      <td>443.4228</td>\n",
       "    </tr>\n",
       "    <tr>\n",
       "      <th>2</th>\n",
       "      <td>FDN15</td>\n",
       "      <td>17.500</td>\n",
       "      <td>Low Fat</td>\n",
       "      <td>0.016760</td>\n",
       "      <td>Meat</td>\n",
       "      <td>141.6180</td>\n",
       "      <td>OUT049</td>\n",
       "      <td>1999</td>\n",
       "      <td>Tier 1</td>\n",
       "      <td>Supermarket Type1</td>\n",
       "      <td>2097.2700</td>\n",
       "    </tr>\n",
       "    <tr>\n",
       "      <th>3</th>\n",
       "      <td>FDX07</td>\n",
       "      <td>19.200</td>\n",
       "      <td>Regular</td>\n",
       "      <td>0.000000</td>\n",
       "      <td>Fruits and Vegetables</td>\n",
       "      <td>182.0950</td>\n",
       "      <td>OUT010</td>\n",
       "      <td>1998</td>\n",
       "      <td>Tier 3</td>\n",
       "      <td>Grocery Store</td>\n",
       "      <td>732.3800</td>\n",
       "    </tr>\n",
       "    <tr>\n",
       "      <th>4</th>\n",
       "      <td>NCD19</td>\n",
       "      <td>8.930</td>\n",
       "      <td>Low Fat</td>\n",
       "      <td>0.000000</td>\n",
       "      <td>Household</td>\n",
       "      <td>53.8614</td>\n",
       "      <td>OUT013</td>\n",
       "      <td>1987</td>\n",
       "      <td>Tier 3</td>\n",
       "      <td>Supermarket Type1</td>\n",
       "      <td>994.7052</td>\n",
       "    </tr>\n",
       "    <tr>\n",
       "      <th>5</th>\n",
       "      <td>FDP36</td>\n",
       "      <td>10.395</td>\n",
       "      <td>Regular</td>\n",
       "      <td>0.000000</td>\n",
       "      <td>Baking Goods</td>\n",
       "      <td>51.4008</td>\n",
       "      <td>OUT018</td>\n",
       "      <td>2009</td>\n",
       "      <td>Tier 3</td>\n",
       "      <td>Supermarket Type2</td>\n",
       "      <td>556.6088</td>\n",
       "    </tr>\n",
       "    <tr>\n",
       "      <th>6</th>\n",
       "      <td>FDO10</td>\n",
       "      <td>13.650</td>\n",
       "      <td>Regular</td>\n",
       "      <td>0.012741</td>\n",
       "      <td>Snack Foods</td>\n",
       "      <td>57.6588</td>\n",
       "      <td>OUT013</td>\n",
       "      <td>1987</td>\n",
       "      <td>Tier 3</td>\n",
       "      <td>Supermarket Type1</td>\n",
       "      <td>343.5528</td>\n",
       "    </tr>\n",
       "    <tr>\n",
       "      <th>7</th>\n",
       "      <td>FDP10</td>\n",
       "      <td>12.600</td>\n",
       "      <td>Low Fat</td>\n",
       "      <td>0.127470</td>\n",
       "      <td>Snack Foods</td>\n",
       "      <td>107.7622</td>\n",
       "      <td>OUT027</td>\n",
       "      <td>1985</td>\n",
       "      <td>Tier 3</td>\n",
       "      <td>Supermarket Type3</td>\n",
       "      <td>4022.7636</td>\n",
       "    </tr>\n",
       "    <tr>\n",
       "      <th>8</th>\n",
       "      <td>FDH17</td>\n",
       "      <td>16.200</td>\n",
       "      <td>Regular</td>\n",
       "      <td>0.016687</td>\n",
       "      <td>Frozen Foods</td>\n",
       "      <td>96.9726</td>\n",
       "      <td>OUT045</td>\n",
       "      <td>2002</td>\n",
       "      <td>Tier 2</td>\n",
       "      <td>Supermarket Type1</td>\n",
       "      <td>1076.5986</td>\n",
       "    </tr>\n",
       "    <tr>\n",
       "      <th>9</th>\n",
       "      <td>FDU28</td>\n",
       "      <td>19.200</td>\n",
       "      <td>Regular</td>\n",
       "      <td>0.094450</td>\n",
       "      <td>Frozen Foods</td>\n",
       "      <td>187.8214</td>\n",
       "      <td>OUT017</td>\n",
       "      <td>2007</td>\n",
       "      <td>Tier 2</td>\n",
       "      <td>Supermarket Type1</td>\n",
       "      <td>4710.5350</td>\n",
       "    </tr>\n",
       "    <tr>\n",
       "      <th>10</th>\n",
       "      <td>FDY07</td>\n",
       "      <td>11.800</td>\n",
       "      <td>Low Fat</td>\n",
       "      <td>0.000000</td>\n",
       "      <td>Fruits and Vegetables</td>\n",
       "      <td>45.5402</td>\n",
       "      <td>OUT049</td>\n",
       "      <td>1999</td>\n",
       "      <td>Tier 1</td>\n",
       "      <td>Supermarket Type1</td>\n",
       "      <td>1516.0266</td>\n",
       "    </tr>\n",
       "    <tr>\n",
       "      <th>11</th>\n",
       "      <td>FDA03</td>\n",
       "      <td>18.500</td>\n",
       "      <td>Regular</td>\n",
       "      <td>0.045464</td>\n",
       "      <td>Dairy</td>\n",
       "      <td>144.1102</td>\n",
       "      <td>OUT046</td>\n",
       "      <td>1997</td>\n",
       "      <td>Tier 1</td>\n",
       "      <td>Supermarket Type1</td>\n",
       "      <td>2187.1530</td>\n",
       "    </tr>\n",
       "    <tr>\n",
       "      <th>12</th>\n",
       "      <td>FDX32</td>\n",
       "      <td>15.100</td>\n",
       "      <td>Regular</td>\n",
       "      <td>0.100014</td>\n",
       "      <td>Fruits and Vegetables</td>\n",
       "      <td>145.4786</td>\n",
       "      <td>OUT049</td>\n",
       "      <td>1999</td>\n",
       "      <td>Tier 1</td>\n",
       "      <td>Supermarket Type1</td>\n",
       "      <td>1589.2646</td>\n",
       "    </tr>\n",
       "    <tr>\n",
       "      <th>13</th>\n",
       "      <td>FDS46</td>\n",
       "      <td>17.600</td>\n",
       "      <td>Regular</td>\n",
       "      <td>0.047257</td>\n",
       "      <td>Snack Foods</td>\n",
       "      <td>119.6782</td>\n",
       "      <td>OUT046</td>\n",
       "      <td>1997</td>\n",
       "      <td>Tier 1</td>\n",
       "      <td>Supermarket Type1</td>\n",
       "      <td>2145.2076</td>\n",
       "    </tr>\n",
       "    <tr>\n",
       "      <th>14</th>\n",
       "      <td>FDF32</td>\n",
       "      <td>16.350</td>\n",
       "      <td>Low Fat</td>\n",
       "      <td>0.068024</td>\n",
       "      <td>Fruits and Vegetables</td>\n",
       "      <td>196.4426</td>\n",
       "      <td>OUT013</td>\n",
       "      <td>1987</td>\n",
       "      <td>Tier 3</td>\n",
       "      <td>Supermarket Type1</td>\n",
       "      <td>1977.4260</td>\n",
       "    </tr>\n",
       "    <tr>\n",
       "      <th>15</th>\n",
       "      <td>FDP49</td>\n",
       "      <td>9.000</td>\n",
       "      <td>Regular</td>\n",
       "      <td>0.069089</td>\n",
       "      <td>Breakfast</td>\n",
       "      <td>56.3614</td>\n",
       "      <td>OUT046</td>\n",
       "      <td>1997</td>\n",
       "      <td>Tier 1</td>\n",
       "      <td>Supermarket Type1</td>\n",
       "      <td>1547.3192</td>\n",
       "    </tr>\n",
       "    <tr>\n",
       "      <th>16</th>\n",
       "      <td>NCB42</td>\n",
       "      <td>11.800</td>\n",
       "      <td>Low Fat</td>\n",
       "      <td>0.008596</td>\n",
       "      <td>Health and Hygiene</td>\n",
       "      <td>115.3492</td>\n",
       "      <td>OUT018</td>\n",
       "      <td>2009</td>\n",
       "      <td>Tier 3</td>\n",
       "      <td>Supermarket Type2</td>\n",
       "      <td>1621.8888</td>\n",
       "    </tr>\n",
       "    <tr>\n",
       "      <th>17</th>\n",
       "      <td>FDP49</td>\n",
       "      <td>9.000</td>\n",
       "      <td>Regular</td>\n",
       "      <td>0.069196</td>\n",
       "      <td>Breakfast</td>\n",
       "      <td>54.3614</td>\n",
       "      <td>OUT049</td>\n",
       "      <td>1999</td>\n",
       "      <td>Tier 1</td>\n",
       "      <td>Supermarket Type1</td>\n",
       "      <td>718.3982</td>\n",
       "    </tr>\n",
       "    <tr>\n",
       "      <th>18</th>\n",
       "      <td>DRI11</td>\n",
       "      <td>12.600</td>\n",
       "      <td>Low Fat</td>\n",
       "      <td>0.034238</td>\n",
       "      <td>Hard Drinks</td>\n",
       "      <td>113.2834</td>\n",
       "      <td>OUT027</td>\n",
       "      <td>1985</td>\n",
       "      <td>Tier 3</td>\n",
       "      <td>Supermarket Type3</td>\n",
       "      <td>2303.6680</td>\n",
       "    </tr>\n",
       "    <tr>\n",
       "      <th>19</th>\n",
       "      <td>FDU02</td>\n",
       "      <td>13.350</td>\n",
       "      <td>Low Fat</td>\n",
       "      <td>0.102492</td>\n",
       "      <td>Dairy</td>\n",
       "      <td>230.5352</td>\n",
       "      <td>OUT035</td>\n",
       "      <td>2004</td>\n",
       "      <td>Tier 2</td>\n",
       "      <td>Supermarket Type1</td>\n",
       "      <td>2748.4224</td>\n",
       "    </tr>\n",
       "    <tr>\n",
       "      <th>20</th>\n",
       "      <td>FDN22</td>\n",
       "      <td>18.850</td>\n",
       "      <td>Regular</td>\n",
       "      <td>0.138190</td>\n",
       "      <td>Snack Foods</td>\n",
       "      <td>250.8724</td>\n",
       "      <td>OUT013</td>\n",
       "      <td>1987</td>\n",
       "      <td>Tier 3</td>\n",
       "      <td>Supermarket Type1</td>\n",
       "      <td>3775.0860</td>\n",
       "    </tr>\n",
       "    <tr>\n",
       "      <th>21</th>\n",
       "      <td>FDW12</td>\n",
       "      <td>12.600</td>\n",
       "      <td>Regular</td>\n",
       "      <td>0.035400</td>\n",
       "      <td>Baking Goods</td>\n",
       "      <td>144.5444</td>\n",
       "      <td>OUT027</td>\n",
       "      <td>1985</td>\n",
       "      <td>Tier 3</td>\n",
       "      <td>Supermarket Type3</td>\n",
       "      <td>4064.0432</td>\n",
       "    </tr>\n",
       "    <tr>\n",
       "      <th>22</th>\n",
       "      <td>NCB30</td>\n",
       "      <td>14.600</td>\n",
       "      <td>Low Fat</td>\n",
       "      <td>0.025698</td>\n",
       "      <td>Household</td>\n",
       "      <td>196.5084</td>\n",
       "      <td>OUT035</td>\n",
       "      <td>2004</td>\n",
       "      <td>Tier 2</td>\n",
       "      <td>Supermarket Type1</td>\n",
       "      <td>1587.2672</td>\n",
       "    </tr>\n",
       "    <tr>\n",
       "      <th>23</th>\n",
       "      <td>FDC37</td>\n",
       "      <td>12.600</td>\n",
       "      <td>Low Fat</td>\n",
       "      <td>0.057557</td>\n",
       "      <td>Baking Goods</td>\n",
       "      <td>107.6938</td>\n",
       "      <td>OUT019</td>\n",
       "      <td>1985</td>\n",
       "      <td>Tier 1</td>\n",
       "      <td>Grocery Store</td>\n",
       "      <td>214.3876</td>\n",
       "    </tr>\n",
       "    <tr>\n",
       "      <th>24</th>\n",
       "      <td>FDR28</td>\n",
       "      <td>13.850</td>\n",
       "      <td>Regular</td>\n",
       "      <td>0.025896</td>\n",
       "      <td>Frozen Foods</td>\n",
       "      <td>165.0210</td>\n",
       "      <td>OUT046</td>\n",
       "      <td>1997</td>\n",
       "      <td>Tier 1</td>\n",
       "      <td>Supermarket Type1</td>\n",
       "      <td>4078.0250</td>\n",
       "    </tr>\n",
       "    <tr>\n",
       "      <th>25</th>\n",
       "      <td>NCD06</td>\n",
       "      <td>13.000</td>\n",
       "      <td>Low Fat</td>\n",
       "      <td>0.099887</td>\n",
       "      <td>Household</td>\n",
       "      <td>45.9060</td>\n",
       "      <td>OUT017</td>\n",
       "      <td>2007</td>\n",
       "      <td>Tier 2</td>\n",
       "      <td>Supermarket Type1</td>\n",
       "      <td>838.9080</td>\n",
       "    </tr>\n",
       "    <tr>\n",
       "      <th>26</th>\n",
       "      <td>FDV10</td>\n",
       "      <td>7.645</td>\n",
       "      <td>Regular</td>\n",
       "      <td>0.066693</td>\n",
       "      <td>Snack Foods</td>\n",
       "      <td>42.3112</td>\n",
       "      <td>OUT035</td>\n",
       "      <td>2004</td>\n",
       "      <td>Tier 2</td>\n",
       "      <td>Supermarket Type1</td>\n",
       "      <td>1065.2800</td>\n",
       "    </tr>\n",
       "    <tr>\n",
       "      <th>27</th>\n",
       "      <td>DRJ59</td>\n",
       "      <td>11.650</td>\n",
       "      <td>Low Fat</td>\n",
       "      <td>0.019356</td>\n",
       "      <td>Hard Drinks</td>\n",
       "      <td>39.1164</td>\n",
       "      <td>OUT013</td>\n",
       "      <td>1987</td>\n",
       "      <td>Tier 3</td>\n",
       "      <td>Supermarket Type1</td>\n",
       "      <td>308.9312</td>\n",
       "    </tr>\n",
       "    <tr>\n",
       "      <th>28</th>\n",
       "      <td>FDE51</td>\n",
       "      <td>5.925</td>\n",
       "      <td>Regular</td>\n",
       "      <td>0.161467</td>\n",
       "      <td>Dairy</td>\n",
       "      <td>45.5086</td>\n",
       "      <td>OUT010</td>\n",
       "      <td>1998</td>\n",
       "      <td>Tier 3</td>\n",
       "      <td>Grocery Store</td>\n",
       "      <td>178.4344</td>\n",
       "    </tr>\n",
       "    <tr>\n",
       "      <th>29</th>\n",
       "      <td>FDC14</td>\n",
       "      <td>12.600</td>\n",
       "      <td>Regular</td>\n",
       "      <td>0.072222</td>\n",
       "      <td>Canned</td>\n",
       "      <td>43.6454</td>\n",
       "      <td>OUT019</td>\n",
       "      <td>1985</td>\n",
       "      <td>Tier 1</td>\n",
       "      <td>Grocery Store</td>\n",
       "      <td>125.8362</td>\n",
       "    </tr>\n",
       "    <tr>\n",
       "      <th>...</th>\n",
       "      <td>...</td>\n",
       "      <td>...</td>\n",
       "      <td>...</td>\n",
       "      <td>...</td>\n",
       "      <td>...</td>\n",
       "      <td>...</td>\n",
       "      <td>...</td>\n",
       "      <td>...</td>\n",
       "      <td>...</td>\n",
       "      <td>...</td>\n",
       "      <td>...</td>\n",
       "    </tr>\n",
       "    <tr>\n",
       "      <th>8493</th>\n",
       "      <td>FDP21</td>\n",
       "      <td>7.420</td>\n",
       "      <td>Regular</td>\n",
       "      <td>0.025886</td>\n",
       "      <td>Snack Foods</td>\n",
       "      <td>189.1872</td>\n",
       "      <td>OUT017</td>\n",
       "      <td>2007</td>\n",
       "      <td>Tier 2</td>\n",
       "      <td>Supermarket Type1</td>\n",
       "      <td>4727.1800</td>\n",
       "    </tr>\n",
       "    <tr>\n",
       "      <th>8494</th>\n",
       "      <td>NCI54</td>\n",
       "      <td>15.200</td>\n",
       "      <td>Low Fat</td>\n",
       "      <td>0.000000</td>\n",
       "      <td>Household</td>\n",
       "      <td>110.4912</td>\n",
       "      <td>OUT017</td>\n",
       "      <td>2007</td>\n",
       "      <td>Tier 2</td>\n",
       "      <td>Supermarket Type1</td>\n",
       "      <td>1637.8680</td>\n",
       "    </tr>\n",
       "    <tr>\n",
       "      <th>8495</th>\n",
       "      <td>FDE22</td>\n",
       "      <td>9.695</td>\n",
       "      <td>Low Fat</td>\n",
       "      <td>0.029567</td>\n",
       "      <td>Snack Foods</td>\n",
       "      <td>160.4920</td>\n",
       "      <td>OUT035</td>\n",
       "      <td>2004</td>\n",
       "      <td>Tier 2</td>\n",
       "      <td>Supermarket Type1</td>\n",
       "      <td>4314.3840</td>\n",
       "    </tr>\n",
       "    <tr>\n",
       "      <th>8496</th>\n",
       "      <td>FDJ57</td>\n",
       "      <td>7.420</td>\n",
       "      <td>Regular</td>\n",
       "      <td>0.021696</td>\n",
       "      <td>Seafood</td>\n",
       "      <td>185.3582</td>\n",
       "      <td>OUT017</td>\n",
       "      <td>2007</td>\n",
       "      <td>Tier 2</td>\n",
       "      <td>Supermarket Type1</td>\n",
       "      <td>3715.1640</td>\n",
       "    </tr>\n",
       "    <tr>\n",
       "      <th>8497</th>\n",
       "      <td>FDT08</td>\n",
       "      <td>13.650</td>\n",
       "      <td>Low Fat</td>\n",
       "      <td>0.049209</td>\n",
       "      <td>Fruits and Vegetables</td>\n",
       "      <td>150.0050</td>\n",
       "      <td>OUT035</td>\n",
       "      <td>2004</td>\n",
       "      <td>Tier 2</td>\n",
       "      <td>Supermarket Type1</td>\n",
       "      <td>2247.0750</td>\n",
       "    </tr>\n",
       "    <tr>\n",
       "      <th>8498</th>\n",
       "      <td>NCP54</td>\n",
       "      <td>15.350</td>\n",
       "      <td>Low Fat</td>\n",
       "      <td>0.035293</td>\n",
       "      <td>Household</td>\n",
       "      <td>124.5730</td>\n",
       "      <td>OUT018</td>\n",
       "      <td>2009</td>\n",
       "      <td>Tier 3</td>\n",
       "      <td>Supermarket Type2</td>\n",
       "      <td>1601.2490</td>\n",
       "    </tr>\n",
       "    <tr>\n",
       "      <th>8499</th>\n",
       "      <td>NCK53</td>\n",
       "      <td>11.600</td>\n",
       "      <td>Low Fat</td>\n",
       "      <td>0.037574</td>\n",
       "      <td>Health and Hygiene</td>\n",
       "      <td>100.0042</td>\n",
       "      <td>OUT035</td>\n",
       "      <td>2004</td>\n",
       "      <td>Tier 2</td>\n",
       "      <td>Supermarket Type1</td>\n",
       "      <td>2976.1260</td>\n",
       "    </tr>\n",
       "    <tr>\n",
       "      <th>8500</th>\n",
       "      <td>NCQ42</td>\n",
       "      <td>20.350</td>\n",
       "      <td>Low Fat</td>\n",
       "      <td>0.000000</td>\n",
       "      <td>Household</td>\n",
       "      <td>125.1678</td>\n",
       "      <td>OUT017</td>\n",
       "      <td>2007</td>\n",
       "      <td>Tier 2</td>\n",
       "      <td>Supermarket Type1</td>\n",
       "      <td>1907.5170</td>\n",
       "    </tr>\n",
       "    <tr>\n",
       "      <th>8501</th>\n",
       "      <td>FDW21</td>\n",
       "      <td>5.340</td>\n",
       "      <td>Regular</td>\n",
       "      <td>0.005998</td>\n",
       "      <td>Snack Foods</td>\n",
       "      <td>100.4358</td>\n",
       "      <td>OUT017</td>\n",
       "      <td>2007</td>\n",
       "      <td>Tier 2</td>\n",
       "      <td>Supermarket Type1</td>\n",
       "      <td>1508.0370</td>\n",
       "    </tr>\n",
       "    <tr>\n",
       "      <th>8502</th>\n",
       "      <td>NCH43</td>\n",
       "      <td>8.420</td>\n",
       "      <td>Low Fat</td>\n",
       "      <td>0.070712</td>\n",
       "      <td>Household</td>\n",
       "      <td>216.4192</td>\n",
       "      <td>OUT045</td>\n",
       "      <td>2002</td>\n",
       "      <td>Tier 2</td>\n",
       "      <td>Supermarket Type1</td>\n",
       "      <td>3020.0688</td>\n",
       "    </tr>\n",
       "    <tr>\n",
       "      <th>8503</th>\n",
       "      <td>FDQ44</td>\n",
       "      <td>20.500</td>\n",
       "      <td>Low Fat</td>\n",
       "      <td>0.036133</td>\n",
       "      <td>Fruits and Vegetables</td>\n",
       "      <td>120.1756</td>\n",
       "      <td>OUT035</td>\n",
       "      <td>2004</td>\n",
       "      <td>Tier 2</td>\n",
       "      <td>Supermarket Type1</td>\n",
       "      <td>3392.9168</td>\n",
       "    </tr>\n",
       "    <tr>\n",
       "      <th>8504</th>\n",
       "      <td>NCN18</td>\n",
       "      <td>12.600</td>\n",
       "      <td>Low Fat</td>\n",
       "      <td>0.124111</td>\n",
       "      <td>Household</td>\n",
       "      <td>111.7544</td>\n",
       "      <td>OUT027</td>\n",
       "      <td>1985</td>\n",
       "      <td>Tier 3</td>\n",
       "      <td>Supermarket Type3</td>\n",
       "      <td>4138.6128</td>\n",
       "    </tr>\n",
       "    <tr>\n",
       "      <th>8505</th>\n",
       "      <td>FDB46</td>\n",
       "      <td>10.500</td>\n",
       "      <td>Regular</td>\n",
       "      <td>0.094146</td>\n",
       "      <td>Snack Foods</td>\n",
       "      <td>210.8244</td>\n",
       "      <td>OUT018</td>\n",
       "      <td>2009</td>\n",
       "      <td>Tier 3</td>\n",
       "      <td>Supermarket Type2</td>\n",
       "      <td>2117.2440</td>\n",
       "    </tr>\n",
       "    <tr>\n",
       "      <th>8506</th>\n",
       "      <td>DRF37</td>\n",
       "      <td>17.250</td>\n",
       "      <td>Low Fat</td>\n",
       "      <td>0.084676</td>\n",
       "      <td>Soft Drinks</td>\n",
       "      <td>263.1910</td>\n",
       "      <td>OUT018</td>\n",
       "      <td>2009</td>\n",
       "      <td>Tier 3</td>\n",
       "      <td>Supermarket Type2</td>\n",
       "      <td>3944.8650</td>\n",
       "    </tr>\n",
       "    <tr>\n",
       "      <th>8507</th>\n",
       "      <td>FDN28</td>\n",
       "      <td>5.880</td>\n",
       "      <td>Regular</td>\n",
       "      <td>0.030242</td>\n",
       "      <td>Frozen Foods</td>\n",
       "      <td>101.7990</td>\n",
       "      <td>OUT035</td>\n",
       "      <td>2004</td>\n",
       "      <td>Tier 2</td>\n",
       "      <td>Supermarket Type1</td>\n",
       "      <td>515.9950</td>\n",
       "    </tr>\n",
       "    <tr>\n",
       "      <th>8508</th>\n",
       "      <td>FDW31</td>\n",
       "      <td>11.350</td>\n",
       "      <td>Regular</td>\n",
       "      <td>0.043246</td>\n",
       "      <td>Fruits and Vegetables</td>\n",
       "      <td>199.4742</td>\n",
       "      <td>OUT045</td>\n",
       "      <td>2002</td>\n",
       "      <td>Tier 2</td>\n",
       "      <td>Supermarket Type1</td>\n",
       "      <td>2587.9646</td>\n",
       "    </tr>\n",
       "    <tr>\n",
       "      <th>8509</th>\n",
       "      <td>FDG45</td>\n",
       "      <td>8.100</td>\n",
       "      <td>Low Fat</td>\n",
       "      <td>0.214306</td>\n",
       "      <td>Fruits and Vegetables</td>\n",
       "      <td>213.9902</td>\n",
       "      <td>OUT010</td>\n",
       "      <td>1998</td>\n",
       "      <td>Tier 3</td>\n",
       "      <td>Grocery Store</td>\n",
       "      <td>424.7804</td>\n",
       "    </tr>\n",
       "    <tr>\n",
       "      <th>8510</th>\n",
       "      <td>FDN58</td>\n",
       "      <td>13.800</td>\n",
       "      <td>Regular</td>\n",
       "      <td>0.056862</td>\n",
       "      <td>Snack Foods</td>\n",
       "      <td>231.5984</td>\n",
       "      <td>OUT035</td>\n",
       "      <td>2004</td>\n",
       "      <td>Tier 2</td>\n",
       "      <td>Supermarket Type1</td>\n",
       "      <td>7182.6504</td>\n",
       "    </tr>\n",
       "    <tr>\n",
       "      <th>8511</th>\n",
       "      <td>FDF05</td>\n",
       "      <td>17.500</td>\n",
       "      <td>Low Fat</td>\n",
       "      <td>0.026980</td>\n",
       "      <td>Frozen Foods</td>\n",
       "      <td>262.5910</td>\n",
       "      <td>OUT018</td>\n",
       "      <td>2009</td>\n",
       "      <td>Tier 3</td>\n",
       "      <td>Supermarket Type2</td>\n",
       "      <td>4207.8560</td>\n",
       "    </tr>\n",
       "    <tr>\n",
       "      <th>8512</th>\n",
       "      <td>FDR26</td>\n",
       "      <td>20.700</td>\n",
       "      <td>Low Fat</td>\n",
       "      <td>0.042801</td>\n",
       "      <td>Dairy</td>\n",
       "      <td>178.3028</td>\n",
       "      <td>OUT013</td>\n",
       "      <td>1987</td>\n",
       "      <td>Tier 3</td>\n",
       "      <td>Supermarket Type1</td>\n",
       "      <td>2479.4392</td>\n",
       "    </tr>\n",
       "    <tr>\n",
       "      <th>8513</th>\n",
       "      <td>FDH31</td>\n",
       "      <td>12.000</td>\n",
       "      <td>Regular</td>\n",
       "      <td>0.020407</td>\n",
       "      <td>Meat</td>\n",
       "      <td>99.9042</td>\n",
       "      <td>OUT035</td>\n",
       "      <td>2004</td>\n",
       "      <td>Tier 2</td>\n",
       "      <td>Supermarket Type1</td>\n",
       "      <td>595.2252</td>\n",
       "    </tr>\n",
       "    <tr>\n",
       "      <th>8514</th>\n",
       "      <td>FDA01</td>\n",
       "      <td>15.000</td>\n",
       "      <td>Regular</td>\n",
       "      <td>0.054489</td>\n",
       "      <td>Canned</td>\n",
       "      <td>57.5904</td>\n",
       "      <td>OUT045</td>\n",
       "      <td>2002</td>\n",
       "      <td>Tier 2</td>\n",
       "      <td>Supermarket Type1</td>\n",
       "      <td>468.7232</td>\n",
       "    </tr>\n",
       "    <tr>\n",
       "      <th>8515</th>\n",
       "      <td>FDH24</td>\n",
       "      <td>20.700</td>\n",
       "      <td>Low Fat</td>\n",
       "      <td>0.021518</td>\n",
       "      <td>Baking Goods</td>\n",
       "      <td>157.5288</td>\n",
       "      <td>OUT018</td>\n",
       "      <td>2009</td>\n",
       "      <td>Tier 3</td>\n",
       "      <td>Supermarket Type2</td>\n",
       "      <td>1571.2880</td>\n",
       "    </tr>\n",
       "    <tr>\n",
       "      <th>8516</th>\n",
       "      <td>NCJ19</td>\n",
       "      <td>18.600</td>\n",
       "      <td>Low Fat</td>\n",
       "      <td>0.118661</td>\n",
       "      <td>Others</td>\n",
       "      <td>58.7588</td>\n",
       "      <td>OUT018</td>\n",
       "      <td>2009</td>\n",
       "      <td>Tier 3</td>\n",
       "      <td>Supermarket Type2</td>\n",
       "      <td>858.8820</td>\n",
       "    </tr>\n",
       "    <tr>\n",
       "      <th>8517</th>\n",
       "      <td>FDF53</td>\n",
       "      <td>20.750</td>\n",
       "      <td>Regular</td>\n",
       "      <td>0.083607</td>\n",
       "      <td>Frozen Foods</td>\n",
       "      <td>178.8318</td>\n",
       "      <td>OUT046</td>\n",
       "      <td>1997</td>\n",
       "      <td>Tier 1</td>\n",
       "      <td>Supermarket Type1</td>\n",
       "      <td>3608.6360</td>\n",
       "    </tr>\n",
       "    <tr>\n",
       "      <th>8518</th>\n",
       "      <td>FDF22</td>\n",
       "      <td>6.865</td>\n",
       "      <td>Low Fat</td>\n",
       "      <td>0.056783</td>\n",
       "      <td>Snack Foods</td>\n",
       "      <td>214.5218</td>\n",
       "      <td>OUT013</td>\n",
       "      <td>1987</td>\n",
       "      <td>Tier 3</td>\n",
       "      <td>Supermarket Type1</td>\n",
       "      <td>2778.3834</td>\n",
       "    </tr>\n",
       "    <tr>\n",
       "      <th>8519</th>\n",
       "      <td>FDS36</td>\n",
       "      <td>8.380</td>\n",
       "      <td>Regular</td>\n",
       "      <td>0.046982</td>\n",
       "      <td>Baking Goods</td>\n",
       "      <td>108.1570</td>\n",
       "      <td>OUT045</td>\n",
       "      <td>2002</td>\n",
       "      <td>Tier 2</td>\n",
       "      <td>Supermarket Type1</td>\n",
       "      <td>549.2850</td>\n",
       "    </tr>\n",
       "    <tr>\n",
       "      <th>8520</th>\n",
       "      <td>NCJ29</td>\n",
       "      <td>10.600</td>\n",
       "      <td>Low Fat</td>\n",
       "      <td>0.035186</td>\n",
       "      <td>Health and Hygiene</td>\n",
       "      <td>85.1224</td>\n",
       "      <td>OUT035</td>\n",
       "      <td>2004</td>\n",
       "      <td>Tier 2</td>\n",
       "      <td>Supermarket Type1</td>\n",
       "      <td>1193.1136</td>\n",
       "    </tr>\n",
       "    <tr>\n",
       "      <th>8521</th>\n",
       "      <td>FDN46</td>\n",
       "      <td>7.210</td>\n",
       "      <td>Regular</td>\n",
       "      <td>0.145221</td>\n",
       "      <td>Snack Foods</td>\n",
       "      <td>103.1332</td>\n",
       "      <td>OUT018</td>\n",
       "      <td>2009</td>\n",
       "      <td>Tier 3</td>\n",
       "      <td>Supermarket Type2</td>\n",
       "      <td>1845.5976</td>\n",
       "    </tr>\n",
       "    <tr>\n",
       "      <th>8522</th>\n",
       "      <td>DRG01</td>\n",
       "      <td>14.800</td>\n",
       "      <td>Low Fat</td>\n",
       "      <td>0.044878</td>\n",
       "      <td>Soft Drinks</td>\n",
       "      <td>75.4670</td>\n",
       "      <td>OUT046</td>\n",
       "      <td>1997</td>\n",
       "      <td>Tier 1</td>\n",
       "      <td>Supermarket Type1</td>\n",
       "      <td>765.6700</td>\n",
       "    </tr>\n",
       "  </tbody>\n",
       "</table>\n",
       "<p>8523 rows × 11 columns</p>\n",
       "</div>"
      ],
      "text/plain": [
       "     Item_Identifier  Item_Weight Item_Fat_Content  Item_Visibility  \\\n",
       "0              FDA15        9.300          Low Fat         0.016047   \n",
       "1              DRC01        5.920          Regular         0.019278   \n",
       "2              FDN15       17.500          Low Fat         0.016760   \n",
       "3              FDX07       19.200          Regular         0.000000   \n",
       "4              NCD19        8.930          Low Fat         0.000000   \n",
       "5              FDP36       10.395          Regular         0.000000   \n",
       "6              FDO10       13.650          Regular         0.012741   \n",
       "7              FDP10       12.600          Low Fat         0.127470   \n",
       "8              FDH17       16.200          Regular         0.016687   \n",
       "9              FDU28       19.200          Regular         0.094450   \n",
       "10             FDY07       11.800          Low Fat         0.000000   \n",
       "11             FDA03       18.500          Regular         0.045464   \n",
       "12             FDX32       15.100          Regular         0.100014   \n",
       "13             FDS46       17.600          Regular         0.047257   \n",
       "14             FDF32       16.350          Low Fat         0.068024   \n",
       "15             FDP49        9.000          Regular         0.069089   \n",
       "16             NCB42       11.800          Low Fat         0.008596   \n",
       "17             FDP49        9.000          Regular         0.069196   \n",
       "18             DRI11       12.600          Low Fat         0.034238   \n",
       "19             FDU02       13.350          Low Fat         0.102492   \n",
       "20             FDN22       18.850          Regular         0.138190   \n",
       "21             FDW12       12.600          Regular         0.035400   \n",
       "22             NCB30       14.600          Low Fat         0.025698   \n",
       "23             FDC37       12.600          Low Fat         0.057557   \n",
       "24             FDR28       13.850          Regular         0.025896   \n",
       "25             NCD06       13.000          Low Fat         0.099887   \n",
       "26             FDV10        7.645          Regular         0.066693   \n",
       "27             DRJ59       11.650          Low Fat         0.019356   \n",
       "28             FDE51        5.925          Regular         0.161467   \n",
       "29             FDC14       12.600          Regular         0.072222   \n",
       "...              ...          ...              ...              ...   \n",
       "8493           FDP21        7.420          Regular         0.025886   \n",
       "8494           NCI54       15.200          Low Fat         0.000000   \n",
       "8495           FDE22        9.695          Low Fat         0.029567   \n",
       "8496           FDJ57        7.420          Regular         0.021696   \n",
       "8497           FDT08       13.650          Low Fat         0.049209   \n",
       "8498           NCP54       15.350          Low Fat         0.035293   \n",
       "8499           NCK53       11.600          Low Fat         0.037574   \n",
       "8500           NCQ42       20.350          Low Fat         0.000000   \n",
       "8501           FDW21        5.340          Regular         0.005998   \n",
       "8502           NCH43        8.420          Low Fat         0.070712   \n",
       "8503           FDQ44       20.500          Low Fat         0.036133   \n",
       "8504           NCN18       12.600          Low Fat         0.124111   \n",
       "8505           FDB46       10.500          Regular         0.094146   \n",
       "8506           DRF37       17.250          Low Fat         0.084676   \n",
       "8507           FDN28        5.880          Regular         0.030242   \n",
       "8508           FDW31       11.350          Regular         0.043246   \n",
       "8509           FDG45        8.100          Low Fat         0.214306   \n",
       "8510           FDN58       13.800          Regular         0.056862   \n",
       "8511           FDF05       17.500          Low Fat         0.026980   \n",
       "8512           FDR26       20.700          Low Fat         0.042801   \n",
       "8513           FDH31       12.000          Regular         0.020407   \n",
       "8514           FDA01       15.000          Regular         0.054489   \n",
       "8515           FDH24       20.700          Low Fat         0.021518   \n",
       "8516           NCJ19       18.600          Low Fat         0.118661   \n",
       "8517           FDF53       20.750          Regular         0.083607   \n",
       "8518           FDF22        6.865          Low Fat         0.056783   \n",
       "8519           FDS36        8.380          Regular         0.046982   \n",
       "8520           NCJ29       10.600          Low Fat         0.035186   \n",
       "8521           FDN46        7.210          Regular         0.145221   \n",
       "8522           DRG01       14.800          Low Fat         0.044878   \n",
       "\n",
       "                  Item_Type  Item_MRP Outlet_Identifier  \\\n",
       "0                     Dairy  249.8092            OUT049   \n",
       "1               Soft Drinks   48.2692            OUT018   \n",
       "2                      Meat  141.6180            OUT049   \n",
       "3     Fruits and Vegetables  182.0950            OUT010   \n",
       "4                 Household   53.8614            OUT013   \n",
       "5              Baking Goods   51.4008            OUT018   \n",
       "6               Snack Foods   57.6588            OUT013   \n",
       "7               Snack Foods  107.7622            OUT027   \n",
       "8              Frozen Foods   96.9726            OUT045   \n",
       "9              Frozen Foods  187.8214            OUT017   \n",
       "10    Fruits and Vegetables   45.5402            OUT049   \n",
       "11                    Dairy  144.1102            OUT046   \n",
       "12    Fruits and Vegetables  145.4786            OUT049   \n",
       "13              Snack Foods  119.6782            OUT046   \n",
       "14    Fruits and Vegetables  196.4426            OUT013   \n",
       "15                Breakfast   56.3614            OUT046   \n",
       "16       Health and Hygiene  115.3492            OUT018   \n",
       "17                Breakfast   54.3614            OUT049   \n",
       "18              Hard Drinks  113.2834            OUT027   \n",
       "19                    Dairy  230.5352            OUT035   \n",
       "20              Snack Foods  250.8724            OUT013   \n",
       "21             Baking Goods  144.5444            OUT027   \n",
       "22                Household  196.5084            OUT035   \n",
       "23             Baking Goods  107.6938            OUT019   \n",
       "24             Frozen Foods  165.0210            OUT046   \n",
       "25                Household   45.9060            OUT017   \n",
       "26              Snack Foods   42.3112            OUT035   \n",
       "27              Hard Drinks   39.1164            OUT013   \n",
       "28                    Dairy   45.5086            OUT010   \n",
       "29                   Canned   43.6454            OUT019   \n",
       "...                     ...       ...               ...   \n",
       "8493            Snack Foods  189.1872            OUT017   \n",
       "8494              Household  110.4912            OUT017   \n",
       "8495            Snack Foods  160.4920            OUT035   \n",
       "8496                Seafood  185.3582            OUT017   \n",
       "8497  Fruits and Vegetables  150.0050            OUT035   \n",
       "8498              Household  124.5730            OUT018   \n",
       "8499     Health and Hygiene  100.0042            OUT035   \n",
       "8500              Household  125.1678            OUT017   \n",
       "8501            Snack Foods  100.4358            OUT017   \n",
       "8502              Household  216.4192            OUT045   \n",
       "8503  Fruits and Vegetables  120.1756            OUT035   \n",
       "8504              Household  111.7544            OUT027   \n",
       "8505            Snack Foods  210.8244            OUT018   \n",
       "8506            Soft Drinks  263.1910            OUT018   \n",
       "8507           Frozen Foods  101.7990            OUT035   \n",
       "8508  Fruits and Vegetables  199.4742            OUT045   \n",
       "8509  Fruits and Vegetables  213.9902            OUT010   \n",
       "8510            Snack Foods  231.5984            OUT035   \n",
       "8511           Frozen Foods  262.5910            OUT018   \n",
       "8512                  Dairy  178.3028            OUT013   \n",
       "8513                   Meat   99.9042            OUT035   \n",
       "8514                 Canned   57.5904            OUT045   \n",
       "8515           Baking Goods  157.5288            OUT018   \n",
       "8516                 Others   58.7588            OUT018   \n",
       "8517           Frozen Foods  178.8318            OUT046   \n",
       "8518            Snack Foods  214.5218            OUT013   \n",
       "8519           Baking Goods  108.1570            OUT045   \n",
       "8520     Health and Hygiene   85.1224            OUT035   \n",
       "8521            Snack Foods  103.1332            OUT018   \n",
       "8522            Soft Drinks   75.4670            OUT046   \n",
       "\n",
       "      Outlet_Establishment_Year Outlet_Location_Type        Outlet_Type  \\\n",
       "0                          1999               Tier 1  Supermarket Type1   \n",
       "1                          2009               Tier 3  Supermarket Type2   \n",
       "2                          1999               Tier 1  Supermarket Type1   \n",
       "3                          1998               Tier 3      Grocery Store   \n",
       "4                          1987               Tier 3  Supermarket Type1   \n",
       "5                          2009               Tier 3  Supermarket Type2   \n",
       "6                          1987               Tier 3  Supermarket Type1   \n",
       "7                          1985               Tier 3  Supermarket Type3   \n",
       "8                          2002               Tier 2  Supermarket Type1   \n",
       "9                          2007               Tier 2  Supermarket Type1   \n",
       "10                         1999               Tier 1  Supermarket Type1   \n",
       "11                         1997               Tier 1  Supermarket Type1   \n",
       "12                         1999               Tier 1  Supermarket Type1   \n",
       "13                         1997               Tier 1  Supermarket Type1   \n",
       "14                         1987               Tier 3  Supermarket Type1   \n",
       "15                         1997               Tier 1  Supermarket Type1   \n",
       "16                         2009               Tier 3  Supermarket Type2   \n",
       "17                         1999               Tier 1  Supermarket Type1   \n",
       "18                         1985               Tier 3  Supermarket Type3   \n",
       "19                         2004               Tier 2  Supermarket Type1   \n",
       "20                         1987               Tier 3  Supermarket Type1   \n",
       "21                         1985               Tier 3  Supermarket Type3   \n",
       "22                         2004               Tier 2  Supermarket Type1   \n",
       "23                         1985               Tier 1      Grocery Store   \n",
       "24                         1997               Tier 1  Supermarket Type1   \n",
       "25                         2007               Tier 2  Supermarket Type1   \n",
       "26                         2004               Tier 2  Supermarket Type1   \n",
       "27                         1987               Tier 3  Supermarket Type1   \n",
       "28                         1998               Tier 3      Grocery Store   \n",
       "29                         1985               Tier 1      Grocery Store   \n",
       "...                         ...                  ...                ...   \n",
       "8493                       2007               Tier 2  Supermarket Type1   \n",
       "8494                       2007               Tier 2  Supermarket Type1   \n",
       "8495                       2004               Tier 2  Supermarket Type1   \n",
       "8496                       2007               Tier 2  Supermarket Type1   \n",
       "8497                       2004               Tier 2  Supermarket Type1   \n",
       "8498                       2009               Tier 3  Supermarket Type2   \n",
       "8499                       2004               Tier 2  Supermarket Type1   \n",
       "8500                       2007               Tier 2  Supermarket Type1   \n",
       "8501                       2007               Tier 2  Supermarket Type1   \n",
       "8502                       2002               Tier 2  Supermarket Type1   \n",
       "8503                       2004               Tier 2  Supermarket Type1   \n",
       "8504                       1985               Tier 3  Supermarket Type3   \n",
       "8505                       2009               Tier 3  Supermarket Type2   \n",
       "8506                       2009               Tier 3  Supermarket Type2   \n",
       "8507                       2004               Tier 2  Supermarket Type1   \n",
       "8508                       2002               Tier 2  Supermarket Type1   \n",
       "8509                       1998               Tier 3      Grocery Store   \n",
       "8510                       2004               Tier 2  Supermarket Type1   \n",
       "8511                       2009               Tier 3  Supermarket Type2   \n",
       "8512                       1987               Tier 3  Supermarket Type1   \n",
       "8513                       2004               Tier 2  Supermarket Type1   \n",
       "8514                       2002               Tier 2  Supermarket Type1   \n",
       "8515                       2009               Tier 3  Supermarket Type2   \n",
       "8516                       2009               Tier 3  Supermarket Type2   \n",
       "8517                       1997               Tier 1  Supermarket Type1   \n",
       "8518                       1987               Tier 3  Supermarket Type1   \n",
       "8519                       2002               Tier 2  Supermarket Type1   \n",
       "8520                       2004               Tier 2  Supermarket Type1   \n",
       "8521                       2009               Tier 3  Supermarket Type2   \n",
       "8522                       1997               Tier 1  Supermarket Type1   \n",
       "\n",
       "      Item_Outlet_Sales  \n",
       "0             3735.1380  \n",
       "1              443.4228  \n",
       "2             2097.2700  \n",
       "3              732.3800  \n",
       "4              994.7052  \n",
       "5              556.6088  \n",
       "6              343.5528  \n",
       "7             4022.7636  \n",
       "8             1076.5986  \n",
       "9             4710.5350  \n",
       "10            1516.0266  \n",
       "11            2187.1530  \n",
       "12            1589.2646  \n",
       "13            2145.2076  \n",
       "14            1977.4260  \n",
       "15            1547.3192  \n",
       "16            1621.8888  \n",
       "17             718.3982  \n",
       "18            2303.6680  \n",
       "19            2748.4224  \n",
       "20            3775.0860  \n",
       "21            4064.0432  \n",
       "22            1587.2672  \n",
       "23             214.3876  \n",
       "24            4078.0250  \n",
       "25             838.9080  \n",
       "26            1065.2800  \n",
       "27             308.9312  \n",
       "28             178.4344  \n",
       "29             125.8362  \n",
       "...                 ...  \n",
       "8493          4727.1800  \n",
       "8494          1637.8680  \n",
       "8495          4314.3840  \n",
       "8496          3715.1640  \n",
       "8497          2247.0750  \n",
       "8498          1601.2490  \n",
       "8499          2976.1260  \n",
       "8500          1907.5170  \n",
       "8501          1508.0370  \n",
       "8502          3020.0688  \n",
       "8503          3392.9168  \n",
       "8504          4138.6128  \n",
       "8505          2117.2440  \n",
       "8506          3944.8650  \n",
       "8507           515.9950  \n",
       "8508          2587.9646  \n",
       "8509           424.7804  \n",
       "8510          7182.6504  \n",
       "8511          4207.8560  \n",
       "8512          2479.4392  \n",
       "8513           595.2252  \n",
       "8514           468.7232  \n",
       "8515          1571.2880  \n",
       "8516           858.8820  \n",
       "8517          3608.6360  \n",
       "8518          2778.3834  \n",
       "8519           549.2850  \n",
       "8520          1193.1136  \n",
       "8521          1845.5976  \n",
       "8522           765.6700  \n",
       "\n",
       "[8523 rows x 11 columns]"
      ]
     },
     "metadata": {},
     "output_type": "display_data"
    }
   ],
   "source": [
    "data = data.drop(columns='Outlet_Size')\n",
    "\n",
    "display(data)"
   ]
  },
  {
   "cell_type": "code",
   "execution_count": 329,
   "metadata": {},
   "outputs": [
    {
     "name": "stdout",
     "output_type": "stream",
     "text": [
      "There are  0  empty values in Item_Identifier column\n",
      "There are  0  empty values in Item_Weight column\n",
      "There are  0  empty values in Item_Fat_Content column\n",
      "There are  0  empty values in Item_Visibility column\n",
      "There are  0  empty values in Item_Type column\n",
      "There are  0  empty values in Item_MRP column\n",
      "There are  0  empty values in Outlet_Identifier column\n",
      "There are  0  empty values in Outlet_Establishment_Year column\n",
      "There are  0  empty values in Outlet_Location_Type column\n",
      "There are  0  empty values in Outlet_Type column\n",
      "There are  0  empty values in Item_Outlet_Sales column\n"
     ]
    }
   ],
   "source": [
    "columns = list(data.columns.values)\n",
    "\n",
    "for i in columns:\n",
    "    nulls = data[i].isnull().sum()\n",
    "    print(\"There are \", nulls, \" empty values in\", i, \"column\")"
   ]
  },
  {
   "cell_type": "markdown",
   "metadata": {},
   "source": [
    "Now we've cleaned our data, there are no more obvious mistakes in the set. We need to dive deeper into each feature to identify if any further changes are required. "
   ]
  },
  {
   "cell_type": "markdown",
   "metadata": {},
   "source": [
    "<h2>Bivariate Analysis</h2>"
   ]
  },
  {
   "cell_type": "markdown",
   "metadata": {},
   "source": [
    "<h3>Visibility</h3>"
   ]
  },
  {
   "cell_type": "code",
   "execution_count": 330,
   "metadata": {},
   "outputs": [
    {
     "data": {
      "text/plain": [
       "Outlet_Identifier\n",
       "OUT010    56.308832\n",
       "OUT013    55.879859\n",
       "OUT017    56.834646\n",
       "OUT018    56.621454\n",
       "OUT019    57.257041\n",
       "OUT027    54.804764\n",
       "OUT035    56.974873\n",
       "OUT045    56.180780\n",
       "OUT046    56.231875\n",
       "OUT049    56.549156\n",
       "Name: Item_Visibility, dtype: float64"
      ]
     },
     "metadata": {},
     "output_type": "display_data"
    }
   ],
   "source": [
    "grouped_visibility = data.groupby(['Outlet_Identifier'])['Item_Visibility'].sum()\n",
    "\n",
    "display(grouped_visibility)"
   ]
  },
  {
   "cell_type": "code",
   "execution_count": 331,
   "metadata": {},
   "outputs": [
    {
     "name": "stdout",
     "output_type": "stream",
     "text": [
      "526\n"
     ]
    },
    {
     "data": {
      "text/html": [
       "<div>\n",
       "<style scoped>\n",
       "    .dataframe tbody tr th:only-of-type {\n",
       "        vertical-align: middle;\n",
       "    }\n",
       "\n",
       "    .dataframe tbody tr th {\n",
       "        vertical-align: top;\n",
       "    }\n",
       "\n",
       "    .dataframe thead th {\n",
       "        text-align: right;\n",
       "    }\n",
       "</style>\n",
       "<table border=\"1\" class=\"dataframe\">\n",
       "  <thead>\n",
       "    <tr style=\"text-align: right;\">\n",
       "      <th></th>\n",
       "      <th>Item_Identifier</th>\n",
       "      <th>Item_Weight</th>\n",
       "      <th>Item_Fat_Content</th>\n",
       "      <th>Item_Visibility</th>\n",
       "      <th>Item_Type</th>\n",
       "      <th>Item_MRP</th>\n",
       "      <th>Outlet_Identifier</th>\n",
       "      <th>Outlet_Establishment_Year</th>\n",
       "      <th>Outlet_Location_Type</th>\n",
       "      <th>Outlet_Type</th>\n",
       "      <th>Item_Outlet_Sales</th>\n",
       "    </tr>\n",
       "  </thead>\n",
       "  <tbody>\n",
       "    <tr>\n",
       "      <th>3</th>\n",
       "      <td>FDX07</td>\n",
       "      <td>19.200</td>\n",
       "      <td>Regular</td>\n",
       "      <td>0.0</td>\n",
       "      <td>Fruits and Vegetables</td>\n",
       "      <td>182.0950</td>\n",
       "      <td>OUT010</td>\n",
       "      <td>1998</td>\n",
       "      <td>Tier 3</td>\n",
       "      <td>Grocery Store</td>\n",
       "      <td>732.3800</td>\n",
       "    </tr>\n",
       "    <tr>\n",
       "      <th>4</th>\n",
       "      <td>NCD19</td>\n",
       "      <td>8.930</td>\n",
       "      <td>Low Fat</td>\n",
       "      <td>0.0</td>\n",
       "      <td>Household</td>\n",
       "      <td>53.8614</td>\n",
       "      <td>OUT013</td>\n",
       "      <td>1987</td>\n",
       "      <td>Tier 3</td>\n",
       "      <td>Supermarket Type1</td>\n",
       "      <td>994.7052</td>\n",
       "    </tr>\n",
       "    <tr>\n",
       "      <th>5</th>\n",
       "      <td>FDP36</td>\n",
       "      <td>10.395</td>\n",
       "      <td>Regular</td>\n",
       "      <td>0.0</td>\n",
       "      <td>Baking Goods</td>\n",
       "      <td>51.4008</td>\n",
       "      <td>OUT018</td>\n",
       "      <td>2009</td>\n",
       "      <td>Tier 3</td>\n",
       "      <td>Supermarket Type2</td>\n",
       "      <td>556.6088</td>\n",
       "    </tr>\n",
       "    <tr>\n",
       "      <th>10</th>\n",
       "      <td>FDY07</td>\n",
       "      <td>11.800</td>\n",
       "      <td>Low Fat</td>\n",
       "      <td>0.0</td>\n",
       "      <td>Fruits and Vegetables</td>\n",
       "      <td>45.5402</td>\n",
       "      <td>OUT049</td>\n",
       "      <td>1999</td>\n",
       "      <td>Tier 1</td>\n",
       "      <td>Supermarket Type1</td>\n",
       "      <td>1516.0266</td>\n",
       "    </tr>\n",
       "    <tr>\n",
       "      <th>32</th>\n",
       "      <td>FDP33</td>\n",
       "      <td>18.700</td>\n",
       "      <td>Low Fat</td>\n",
       "      <td>0.0</td>\n",
       "      <td>Snack Foods</td>\n",
       "      <td>256.6672</td>\n",
       "      <td>OUT018</td>\n",
       "      <td>2009</td>\n",
       "      <td>Tier 3</td>\n",
       "      <td>Supermarket Type2</td>\n",
       "      <td>3068.0064</td>\n",
       "    </tr>\n",
       "  </tbody>\n",
       "</table>\n",
       "</div>"
      ],
      "text/plain": [
       "   Item_Identifier  Item_Weight Item_Fat_Content  Item_Visibility  \\\n",
       "3            FDX07       19.200          Regular              0.0   \n",
       "4            NCD19        8.930          Low Fat              0.0   \n",
       "5            FDP36       10.395          Regular              0.0   \n",
       "10           FDY07       11.800          Low Fat              0.0   \n",
       "32           FDP33       18.700          Low Fat              0.0   \n",
       "\n",
       "                Item_Type  Item_MRP Outlet_Identifier  \\\n",
       "3   Fruits and Vegetables  182.0950            OUT010   \n",
       "4               Household   53.8614            OUT013   \n",
       "5            Baking Goods   51.4008            OUT018   \n",
       "10  Fruits and Vegetables   45.5402            OUT049   \n",
       "32            Snack Foods  256.6672            OUT018   \n",
       "\n",
       "    Outlet_Establishment_Year Outlet_Location_Type        Outlet_Type  \\\n",
       "3                        1998               Tier 3      Grocery Store   \n",
       "4                        1987               Tier 3  Supermarket Type1   \n",
       "5                        2009               Tier 3  Supermarket Type2   \n",
       "10                       1999               Tier 1  Supermarket Type1   \n",
       "32                       2009               Tier 3  Supermarket Type2   \n",
       "\n",
       "    Item_Outlet_Sales  \n",
       "3            732.3800  \n",
       "4            994.7052  \n",
       "5            556.6088  \n",
       "10          1516.0266  \n",
       "32          3068.0064  "
      ]
     },
     "execution_count": 331,
     "metadata": {},
     "output_type": "execute_result"
    }
   ],
   "source": [
    "item_vis = data[data['Item_Visibility'] == 0]\n",
    "print(item_vis.Outlet_Identifier.count())\n",
    "\n",
    "item_vis.head(5)"
   ]
  },
  {
   "cell_type": "code",
   "execution_count": 332,
   "metadata": {},
   "outputs": [
    {
     "name": "stdout",
     "output_type": "stream",
     "text": [
      "0\n"
     ]
    }
   ],
   "source": [
    "visibility_median = data['Item_Visibility'].median()\n",
    "\n",
    "data['Item_Visibility'].replace(0, visibility_median, inplace=True)\n",
    "\n",
    "no_vis = data[data['Item_Visibility'] == 0].Outlet_Identifier.count()\n",
    "print(no_vis)"
   ]
  },
  {
   "cell_type": "markdown",
   "metadata": {},
   "source": [
    "As with most retail stores, product placement is quite important towards sales. The more an item is visible and available to a customer, the better its sales should be as it can lead to more impulse purchases (unplanned purchases). However, in our dataset, I noticed that the data provided by each outlet store does not add up to 100% visibility. This thus means that either certain items have not been included or the method of counting was incorrect. Luckily, they all seem to be within the same range, somewhere between 54% and 57% and as such should yield proper results. However, there are 526 rows with visibility as 0 but that produced sales but that is impossible! Thus, I filled those values with the median value of visiblity for completeness. "
   ]
  },
  {
   "cell_type": "markdown",
   "metadata": {},
   "source": [
    "<h2>Analysis of Sales</h2>"
   ]
  },
  {
   "cell_type": "code",
   "execution_count": 162,
   "metadata": {},
   "outputs": [],
   "source": [
    "outlets = data.groupby(['Outlet_Identifier'])"
   ]
  },
  {
   "cell_type": "code",
   "execution_count": 163,
   "metadata": {
    "scrolled": false
   },
   "outputs": [
    {
     "data": {
      "text/plain": [
       "Outlet_Identifier\n",
       "OUT027    3.453926e+06\n",
       "OUT035    2.268123e+06\n",
       "OUT049    2.183970e+06\n",
       "OUT017    2.167465e+06\n",
       "OUT013    2.142664e+06\n",
       "OUT046    2.118395e+06\n",
       "OUT045    2.036725e+06\n",
       "OUT018    1.851823e+06\n",
       "OUT010    1.883402e+05\n",
       "OUT019    1.796941e+05\n",
       "Name: Item_Outlet_Sales, dtype: float64"
      ]
     },
     "metadata": {},
     "output_type": "display_data"
    }
   ],
   "source": [
    "outlet_sales = outlets['Item_Outlet_Sales'].sum()\n",
    "\n",
    "outlet_sales = outlet_sales.sort_values(ascending=False)\n",
    "\n",
    "display(outlet_sales)\n"
   ]
  },
  {
   "cell_type": "markdown",
   "metadata": {},
   "source": [
    "<h2>Types of sales per outlet</h2>"
   ]
  },
  {
   "cell_type": "code",
   "execution_count": 213,
   "metadata": {
    "scrolled": false
   },
   "outputs": [
    {
     "data": {
      "image/png": "[encoded data removed]",
      "text/plain": [
       "<Figure size 1584x3600 with 10 Axes>"
      ]
     },
     "metadata": {},
     "output_type": "display_data"
    },
    {
     "data": {
      "text/plain": [
       "<Figure size 432x288 with 0 Axes>"
      ]
     },
     "metadata": {},
     "output_type": "display_data"
    },
    {
     "data": {
      "text/plain": [
       "<Figure size 432x288 with 0 Axes>"
      ]
     },
     "metadata": {},
     "output_type": "display_data"
    },
    {
     "data": {
      "text/plain": [
       "<Figure size 432x288 with 0 Axes>"
      ]
     },
     "metadata": {},
     "output_type": "display_data"
    },
    {
     "data": {
      "text/plain": [
       "<Figure size 432x288 with 0 Axes>"
      ]
     },
     "metadata": {},
     "output_type": "display_data"
    },
    {
     "data": {
      "text/plain": [
       "<Figure size 432x288 with 0 Axes>"
      ]
     },
     "metadata": {},
     "output_type": "display_data"
    },
    {
     "data": {
      "text/plain": [
       "<Figure size 432x288 with 0 Axes>"
      ]
     },
     "metadata": {},
     "output_type": "display_data"
    },
    {
     "data": {
      "text/plain": [
       "<Figure size 432x288 with 0 Axes>"
      ]
     },
     "metadata": {},
     "output_type": "display_data"
    },
    {
     "data": {
      "text/plain": [
       "<Figure size 432x288 with 0 Axes>"
      ]
     },
     "metadata": {},
     "output_type": "display_data"
    },
    {
     "data": {
      "text/plain": [
       "<Figure size 432x288 with 0 Axes>"
      ]
     },
     "metadata": {},
     "output_type": "display_data"
    },
    {
     "data": {
      "text/plain": [
       "<Figure size 432x288 with 0 Axes>"
      ]
     },
     "metadata": {},
     "output_type": "display_data"
    }
   ],
   "source": [
    "arr = data['Outlet_Identifier'].unique()\n",
    "\n",
    "fig, axarr = plt.subplots(5,2, figsize=(22,50))\n",
    "\n",
    "j = 0\n",
    "k = -1\n",
    "for i in arr:\n",
    "    k += 1\n",
    "    if k > 1:\n",
    "        k = 0\n",
    "        j += 1\n",
    "    plt.figure()\n",
    "    i_data = data[data['Outlet_Identifier'] == i]\n",
    "    i_data = i_data.groupby(['Item_Type'])['Item_Outlet_Sales'].sum().sort_values(ascending=False)\n",
    "    i_data.plot.bar(ax = axarr[j,k], title = i)\n",
    "    "
   ]
  },
  {
   "cell_type": "markdown",
   "metadata": {},
   "source": [
    "Through the plots above we can see that snack foods along with fruits and vegetables are the best sellers for outlets and seafood and breakfast typically the worst sellers. We can also see that OUT027 has significantly more volume sales over the rest, almost double for certain food types. This matches with our previous findings in which OUT027 leads all outlets in total sales. The other stores are within the 35k and lower range. "
   ]
  },
  {
   "cell_type": "code",
   "execution_count": 214,
   "metadata": {},
   "outputs": [
    {
     "data": {
      "text/html": [
       "<div>\n",
       "<style scoped>\n",
       "    .dataframe tbody tr th:only-of-type {\n",
       "        vertical-align: middle;\n",
       "    }\n",
       "\n",
       "    .dataframe tbody tr th {\n",
       "        vertical-align: top;\n",
       "    }\n",
       "\n",
       "    .dataframe thead th {\n",
       "        text-align: right;\n",
       "    }\n",
       "</style>\n",
       "<table border=\"1\" class=\"dataframe\">\n",
       "  <thead>\n",
       "    <tr style=\"text-align: right;\">\n",
       "      <th></th>\n",
       "      <th>Item_Identifier</th>\n",
       "      <th>Item_Weight</th>\n",
       "      <th>Item_Fat_Content</th>\n",
       "      <th>Item_Visibility</th>\n",
       "      <th>Item_Type</th>\n",
       "      <th>Item_MRP</th>\n",
       "      <th>Outlet_Identifier</th>\n",
       "      <th>Outlet_Establishment_Year</th>\n",
       "      <th>Outlet_Location_Type</th>\n",
       "      <th>Outlet_Type</th>\n",
       "      <th>Item_Outlet_Sales</th>\n",
       "    </tr>\n",
       "  </thead>\n",
       "  <tbody>\n",
       "    <tr>\n",
       "      <th>0</th>\n",
       "      <td>FDA15</td>\n",
       "      <td>9.3</td>\n",
       "      <td>Low Fat</td>\n",
       "      <td>0.016047</td>\n",
       "      <td>Dairy</td>\n",
       "      <td>249.8092</td>\n",
       "      <td>OUT049</td>\n",
       "      <td>1999</td>\n",
       "      <td>Tier 1</td>\n",
       "      <td>Supermarket Type1</td>\n",
       "      <td>3735.138</td>\n",
       "    </tr>\n",
       "  </tbody>\n",
       "</table>\n",
       "</div>"
      ],
      "text/plain": [
       "  Item_Identifier  Item_Weight Item_Fat_Content  Item_Visibility Item_Type  \\\n",
       "0           FDA15          9.3          Low Fat         0.016047     Dairy   \n",
       "\n",
       "   Item_MRP Outlet_Identifier  Outlet_Establishment_Year Outlet_Location_Type  \\\n",
       "0  249.8092            OUT049                       1999               Tier 1   \n",
       "\n",
       "         Outlet_Type  Item_Outlet_Sales  \n",
       "0  Supermarket Type1           3735.138  "
      ]
     },
     "execution_count": 214,
     "metadata": {},
     "output_type": "execute_result"
    }
   ],
   "source": [
    "data.head(1)"
   ]
  },
  {
   "cell_type": "code",
   "execution_count": 221,
   "metadata": {},
   "outputs": [
    {
     "data": {
      "text/plain": [
       "Outlet_Location_Type\n",
       "Tier 1    4.482059e+06\n",
       "Tier 2    6.472314e+06\n",
       "Tier 3    7.636753e+06\n",
       "Name: Item_Outlet_Sales, dtype: float64"
      ]
     },
     "metadata": {},
     "output_type": "display_data"
    }
   ],
   "source": [
    "store_type_sales = data.groupby(['Outlet_Location_Type'])['Item_Outlet_Sales']\n",
    "\n",
    "display(store_type_sales.sum())"
   ]
  },
  {
   "cell_type": "code",
   "execution_count": 222,
   "metadata": {
    "scrolled": true
   },
   "outputs": [
    {
     "data": {
      "text/plain": [
       "<matplotlib.axes._subplots.AxesSubplot at 0x1a1f79e588>"
      ]
     },
     "execution_count": 222,
     "metadata": {},
     "output_type": "execute_result"
    },
    {
     "data": {
      "image/png": "[encoded data removed]",
      "text/plain": [
       "<Figure size 432x288 with 1 Axes>"
      ]
     },
     "metadata": {},
     "output_type": "display_data"
    }
   ],
   "source": [
    "sns.boxplot(x=data['Outlet_Location_Type'], y=data['Item_Outlet_Sales'])"
   ]
  },
  {
   "cell_type": "markdown",
   "metadata": {},
   "source": [
    "From the box plots, we notice that there are a number of entries that exceed the top whisker (maximum excluding outliers). As such, we will take a closer look at the outliers and see if we can find any patterns."
   ]
  },
  {
   "cell_type": "code",
   "execution_count": 226,
   "metadata": {},
   "outputs": [
    {
     "data": {
      "text/html": [
       "<div>\n",
       "<style scoped>\n",
       "    .dataframe tbody tr th:only-of-type {\n",
       "        vertical-align: middle;\n",
       "    }\n",
       "\n",
       "    .dataframe tbody tr th {\n",
       "        vertical-align: top;\n",
       "    }\n",
       "\n",
       "    .dataframe thead th {\n",
       "        text-align: right;\n",
       "    }\n",
       "</style>\n",
       "<table border=\"1\" class=\"dataframe\">\n",
       "  <thead>\n",
       "    <tr style=\"text-align: right;\">\n",
       "      <th></th>\n",
       "      <th>Item_Identifier</th>\n",
       "      <th>Item_Weight</th>\n",
       "      <th>Item_Fat_Content</th>\n",
       "      <th>Item_Visibility</th>\n",
       "      <th>Item_Type</th>\n",
       "      <th>Item_MRP</th>\n",
       "      <th>Outlet_Identifier</th>\n",
       "      <th>Outlet_Establishment_Year</th>\n",
       "      <th>Outlet_Location_Type</th>\n",
       "      <th>Outlet_Type</th>\n",
       "      <th>Item_Outlet_Sales</th>\n",
       "    </tr>\n",
       "  </thead>\n",
       "  <tbody>\n",
       "    <tr>\n",
       "      <th>145</th>\n",
       "      <td>FDP16</td>\n",
       "      <td>18.600</td>\n",
       "      <td>Low Fat</td>\n",
       "      <td>0.039356</td>\n",
       "      <td>Frozen Foods</td>\n",
       "      <td>246.3802</td>\n",
       "      <td>OUT049</td>\n",
       "      <td>1999</td>\n",
       "      <td>Tier 1</td>\n",
       "      <td>Supermarket Type1</td>\n",
       "      <td>7370.4060</td>\n",
       "    </tr>\n",
       "    <tr>\n",
       "      <th>424</th>\n",
       "      <td>NCU41</td>\n",
       "      <td>18.850</td>\n",
       "      <td>Low Fat</td>\n",
       "      <td>0.052136</td>\n",
       "      <td>Health and Hygiene</td>\n",
       "      <td>190.1846</td>\n",
       "      <td>OUT049</td>\n",
       "      <td>1999</td>\n",
       "      <td>Tier 1</td>\n",
       "      <td>Supermarket Type1</td>\n",
       "      <td>6687.9610</td>\n",
       "    </tr>\n",
       "    <tr>\n",
       "      <th>753</th>\n",
       "      <td>FDY26</td>\n",
       "      <td>20.600</td>\n",
       "      <td>Regular</td>\n",
       "      <td>0.030511</td>\n",
       "      <td>Dairy</td>\n",
       "      <td>211.4244</td>\n",
       "      <td>OUT046</td>\n",
       "      <td>1997</td>\n",
       "      <td>Tier 1</td>\n",
       "      <td>Supermarket Type1</td>\n",
       "      <td>7833.8028</td>\n",
       "    </tr>\n",
       "    <tr>\n",
       "      <th>903</th>\n",
       "      <td>FDX39</td>\n",
       "      <td>14.300</td>\n",
       "      <td>Regular</td>\n",
       "      <td>0.049753</td>\n",
       "      <td>Meat</td>\n",
       "      <td>210.3586</td>\n",
       "      <td>OUT049</td>\n",
       "      <td>1999</td>\n",
       "      <td>Tier 1</td>\n",
       "      <td>Supermarket Type1</td>\n",
       "      <td>6331.7580</td>\n",
       "    </tr>\n",
       "    <tr>\n",
       "      <th>915</th>\n",
       "      <td>DRE60</td>\n",
       "      <td>9.395</td>\n",
       "      <td>Low Fat</td>\n",
       "      <td>0.159582</td>\n",
       "      <td>Soft Drinks</td>\n",
       "      <td>224.7720</td>\n",
       "      <td>OUT049</td>\n",
       "      <td>1999</td>\n",
       "      <td>Tier 1</td>\n",
       "      <td>Supermarket Type1</td>\n",
       "      <td>7017.5320</td>\n",
       "    </tr>\n",
       "  </tbody>\n",
       "</table>\n",
       "</div>"
      ],
      "text/plain": [
       "    Item_Identifier  Item_Weight Item_Fat_Content  Item_Visibility  \\\n",
       "145           FDP16       18.600          Low Fat         0.039356   \n",
       "424           NCU41       18.850          Low Fat         0.052136   \n",
       "753           FDY26       20.600          Regular         0.030511   \n",
       "903           FDX39       14.300          Regular         0.049753   \n",
       "915           DRE60        9.395          Low Fat         0.159582   \n",
       "\n",
       "              Item_Type  Item_MRP Outlet_Identifier  \\\n",
       "145        Frozen Foods  246.3802            OUT049   \n",
       "424  Health and Hygiene  190.1846            OUT049   \n",
       "753               Dairy  211.4244            OUT046   \n",
       "903                Meat  210.3586            OUT049   \n",
       "915         Soft Drinks  224.7720            OUT049   \n",
       "\n",
       "     Outlet_Establishment_Year Outlet_Location_Type        Outlet_Type  \\\n",
       "145                       1999               Tier 1  Supermarket Type1   \n",
       "424                       1999               Tier 1  Supermarket Type1   \n",
       "753                       1997               Tier 1  Supermarket Type1   \n",
       "903                       1999               Tier 1  Supermarket Type1   \n",
       "915                       1999               Tier 1  Supermarket Type1   \n",
       "\n",
       "     Item_Outlet_Sales  \n",
       "145          7370.4060  \n",
       "424          6687.9610  \n",
       "753          7833.8028  \n",
       "903          6331.7580  \n",
       "915          7017.5320  "
      ]
     },
     "execution_count": 226,
     "metadata": {},
     "output_type": "execute_result"
    }
   ],
   "source": [
    "def search_outlier(tier):\n",
    "    outlier_tier = data[(data['Outlet_Location_Type'] == tier)]\n",
    "    q1 = outlier_tier['Item_Outlet_Sales'].quantile(0.25)\n",
    "    q3 = outlier_tier['Item_Outlet_Sales'].quantile(0.75)\n",
    "    iqr = q3 - q1\n",
    "    u_fence = q3 + (iqr*1.5)\n",
    "    l_fence = q1 - (iqr*1.5)\n",
    "    \n",
    "    outliers = outlier_tier[(outlier_tier['Item_Outlet_Sales'] < l_fence) |\n",
    "                            (outlier_tier['Item_Outlet_Sales'] > u_fence)]\n",
    "    \n",
    "    return outliers\n",
    "\n",
    "\n",
    "out = search_outlier(\"Tier 1\")\n",
    "\n",
    "out.head(5)"
   ]
  },
  {
   "cell_type": "code",
   "execution_count": 227,
   "metadata": {},
   "outputs": [
    {
     "data": {
      "text/plain": [
       "36"
      ]
     },
     "execution_count": 227,
     "metadata": {},
     "output_type": "execute_result"
    }
   ],
   "source": [
    "out['Item_Identifier'].count()"
   ]
  },
  {
   "cell_type": "code",
   "execution_count": 228,
   "metadata": {},
   "outputs": [
    {
     "data": {
      "text/plain": [
       "Fruits and Vegetables    6\n",
       "Frozen Foods             5\n",
       "Snack Foods              4\n",
       "Health and Hygiene       4\n",
       "Canned                   3\n",
       "Household                3\n",
       "Dairy                    2\n",
       "Breads                   2\n",
       "Soft Drinks              2\n",
       "Hard Drinks              1\n",
       "Seafood                  1\n",
       "Starchy Foods            1\n",
       "Meat                     1\n",
       "Breakfast                1\n",
       "Name: Item_Type, dtype: int64"
      ]
     },
     "execution_count": 228,
     "metadata": {},
     "output_type": "execute_result"
    }
   ],
   "source": [
    "out['Item_Type'].value_counts()"
   ]
  },
  {
   "cell_type": "code",
   "execution_count": 231,
   "metadata": {},
   "outputs": [
    {
     "data": {
      "text/plain": [
       "6024.1584"
      ]
     },
     "execution_count": 231,
     "metadata": {},
     "output_type": "execute_result"
    }
   ],
   "source": [
    "out['Item_Outlet_Sales'].min()"
   ]
  },
  {
   "cell_type": "code",
   "execution_count": 236,
   "metadata": {},
   "outputs": [
    {
     "data": {
      "text/html": [
       "<div>\n",
       "<style scoped>\n",
       "    .dataframe tbody tr th:only-of-type {\n",
       "        vertical-align: middle;\n",
       "    }\n",
       "\n",
       "    .dataframe tbody tr th {\n",
       "        vertical-align: top;\n",
       "    }\n",
       "\n",
       "    .dataframe thead th {\n",
       "        text-align: right;\n",
       "    }\n",
       "</style>\n",
       "<table border=\"1\" class=\"dataframe\">\n",
       "  <thead>\n",
       "    <tr style=\"text-align: right;\">\n",
       "      <th></th>\n",
       "      <th>Item_Identifier</th>\n",
       "      <th>Item_Weight</th>\n",
       "      <th>Item_Fat_Content</th>\n",
       "      <th>Item_Visibility</th>\n",
       "      <th>Item_Type</th>\n",
       "      <th>Item_MRP</th>\n",
       "      <th>Outlet_Identifier</th>\n",
       "      <th>Outlet_Establishment_Year</th>\n",
       "      <th>Outlet_Location_Type</th>\n",
       "      <th>Outlet_Type</th>\n",
       "      <th>Item_Outlet_Sales</th>\n",
       "    </tr>\n",
       "  </thead>\n",
       "  <tbody>\n",
       "    <tr>\n",
       "      <th>146</th>\n",
       "      <td>FDB11</td>\n",
       "      <td>16.000</td>\n",
       "      <td>Low Fat</td>\n",
       "      <td>0.060837</td>\n",
       "      <td>Starchy Foods</td>\n",
       "      <td>226.8404</td>\n",
       "      <td>OUT035</td>\n",
       "      <td>2004</td>\n",
       "      <td>Tier 2</td>\n",
       "      <td>Supermarket Type1</td>\n",
       "      <td>6301.1312</td>\n",
       "    </tr>\n",
       "    <tr>\n",
       "      <th>240</th>\n",
       "      <td>NCR38</td>\n",
       "      <td>17.250</td>\n",
       "      <td>Low Fat</td>\n",
       "      <td>0.113749</td>\n",
       "      <td>Household</td>\n",
       "      <td>251.3724</td>\n",
       "      <td>OUT045</td>\n",
       "      <td>2002</td>\n",
       "      <td>Tier 2</td>\n",
       "      <td>Supermarket Type1</td>\n",
       "      <td>6795.1548</td>\n",
       "    </tr>\n",
       "    <tr>\n",
       "      <th>243</th>\n",
       "      <td>FDY56</td>\n",
       "      <td>16.350</td>\n",
       "      <td>Regular</td>\n",
       "      <td>0.062764</td>\n",
       "      <td>Fruits and Vegetables</td>\n",
       "      <td>227.6062</td>\n",
       "      <td>OUT017</td>\n",
       "      <td>2007</td>\n",
       "      <td>Tier 2</td>\n",
       "      <td>Supermarket Type1</td>\n",
       "      <td>7222.5984</td>\n",
       "    </tr>\n",
       "    <tr>\n",
       "      <th>281</th>\n",
       "      <td>NCZ18</td>\n",
       "      <td>7.825</td>\n",
       "      <td>Low Fat</td>\n",
       "      <td>0.186033</td>\n",
       "      <td>Household</td>\n",
       "      <td>253.0698</td>\n",
       "      <td>OUT035</td>\n",
       "      <td>2004</td>\n",
       "      <td>Tier 2</td>\n",
       "      <td>Supermarket Type1</td>\n",
       "      <td>6088.0752</td>\n",
       "    </tr>\n",
       "    <tr>\n",
       "      <th>304</th>\n",
       "      <td>DRE60</td>\n",
       "      <td>9.395</td>\n",
       "      <td>Low Fat</td>\n",
       "      <td>0.159658</td>\n",
       "      <td>Soft Drinks</td>\n",
       "      <td>224.9720</td>\n",
       "      <td>OUT045</td>\n",
       "      <td>2002</td>\n",
       "      <td>Tier 2</td>\n",
       "      <td>Supermarket Type1</td>\n",
       "      <td>7696.6480</td>\n",
       "    </tr>\n",
       "  </tbody>\n",
       "</table>\n",
       "</div>"
      ],
      "text/plain": [
       "    Item_Identifier  Item_Weight Item_Fat_Content  Item_Visibility  \\\n",
       "146           FDB11       16.000          Low Fat         0.060837   \n",
       "240           NCR38       17.250          Low Fat         0.113749   \n",
       "243           FDY56       16.350          Regular         0.062764   \n",
       "281           NCZ18        7.825          Low Fat         0.186033   \n",
       "304           DRE60        9.395          Low Fat         0.159658   \n",
       "\n",
       "                 Item_Type  Item_MRP Outlet_Identifier  \\\n",
       "146          Starchy Foods  226.8404            OUT035   \n",
       "240              Household  251.3724            OUT045   \n",
       "243  Fruits and Vegetables  227.6062            OUT017   \n",
       "281              Household  253.0698            OUT035   \n",
       "304            Soft Drinks  224.9720            OUT045   \n",
       "\n",
       "     Outlet_Establishment_Year Outlet_Location_Type        Outlet_Type  \\\n",
       "146                       2004               Tier 2  Supermarket Type1   \n",
       "240                       2002               Tier 2  Supermarket Type1   \n",
       "243                       2007               Tier 2  Supermarket Type1   \n",
       "281                       2004               Tier 2  Supermarket Type1   \n",
       "304                       2002               Tier 2  Supermarket Type1   \n",
       "\n",
       "     Item_Outlet_Sales  \n",
       "146          6301.1312  \n",
       "240          6795.1548  \n",
       "243          7222.5984  \n",
       "281          6088.0752  \n",
       "304          7696.6480  "
      ]
     },
     "execution_count": 236,
     "metadata": {},
     "output_type": "execute_result"
    }
   ],
   "source": [
    "out2 = search_outlier(\"Tier 2\")\n",
    "\n",
    "out2.head()"
   ]
  },
  {
   "cell_type": "code",
   "execution_count": 237,
   "metadata": {},
   "outputs": [
    {
     "data": {
      "text/plain": [
       "70"
      ]
     },
     "execution_count": 237,
     "metadata": {},
     "output_type": "execute_result"
    }
   ],
   "source": [
    "out2['Item_Identifier'].count()\n"
   ]
  },
  {
   "cell_type": "code",
   "execution_count": 238,
   "metadata": {},
   "outputs": [
    {
     "data": {
      "text/plain": [
       "Fruits and Vegetables    13\n",
       "Snack Foods              12\n",
       "Dairy                     9\n",
       "Frozen Foods              8\n",
       "Household                 6\n",
       "Baking Goods              5\n",
       "Soft Drinks               4\n",
       "Starchy Foods             3\n",
       "Health and Hygiene        3\n",
       "Hard Drinks               2\n",
       "Breads                    2\n",
       "Canned                    2\n",
       "Breakfast                 1\n",
       "Name: Item_Type, dtype: int64"
      ]
     },
     "execution_count": 238,
     "metadata": {},
     "output_type": "execute_result"
    }
   ],
   "source": [
    "out2['Item_Type'].value_counts()"
   ]
  },
  {
   "cell_type": "code",
   "execution_count": 239,
   "metadata": {
    "scrolled": true
   },
   "outputs": [
    {
     "data": {
      "text/plain": [
       "6024.1584"
      ]
     },
     "execution_count": 239,
     "metadata": {},
     "output_type": "execute_result"
    }
   ],
   "source": [
    "out2['Item_Outlet_Sales'].min()"
   ]
  },
  {
   "cell_type": "code",
   "execution_count": 240,
   "metadata": {},
   "outputs": [
    {
     "data": {
      "text/html": [
       "<div>\n",
       "<style scoped>\n",
       "    .dataframe tbody tr th:only-of-type {\n",
       "        vertical-align: middle;\n",
       "    }\n",
       "\n",
       "    .dataframe tbody tr th {\n",
       "        vertical-align: top;\n",
       "    }\n",
       "\n",
       "    .dataframe thead th {\n",
       "        text-align: right;\n",
       "    }\n",
       "</style>\n",
       "<table border=\"1\" class=\"dataframe\">\n",
       "  <thead>\n",
       "    <tr style=\"text-align: right;\">\n",
       "      <th></th>\n",
       "      <th>Item_Identifier</th>\n",
       "      <th>Item_Weight</th>\n",
       "      <th>Item_Fat_Content</th>\n",
       "      <th>Item_Visibility</th>\n",
       "      <th>Item_Type</th>\n",
       "      <th>Item_MRP</th>\n",
       "      <th>Outlet_Identifier</th>\n",
       "      <th>Outlet_Establishment_Year</th>\n",
       "      <th>Outlet_Location_Type</th>\n",
       "      <th>Outlet_Type</th>\n",
       "      <th>Item_Outlet_Sales</th>\n",
       "    </tr>\n",
       "  </thead>\n",
       "  <tbody>\n",
       "    <tr>\n",
       "      <th>130</th>\n",
       "      <td>FDY25</td>\n",
       "      <td>12.60</td>\n",
       "      <td>Low Fat</td>\n",
       "      <td>0.033810</td>\n",
       "      <td>Canned</td>\n",
       "      <td>180.5976</td>\n",
       "      <td>OUT027</td>\n",
       "      <td>1985</td>\n",
       "      <td>Tier 3</td>\n",
       "      <td>Supermarket Type3</td>\n",
       "      <td>7968.2944</td>\n",
       "    </tr>\n",
       "    <tr>\n",
       "      <th>275</th>\n",
       "      <td>FDH19</td>\n",
       "      <td>12.60</td>\n",
       "      <td>Low Fat</td>\n",
       "      <td>0.032928</td>\n",
       "      <td>Meat</td>\n",
       "      <td>173.1738</td>\n",
       "      <td>OUT027</td>\n",
       "      <td>1985</td>\n",
       "      <td>Tier 3</td>\n",
       "      <td>Supermarket Type3</td>\n",
       "      <td>7298.4996</td>\n",
       "    </tr>\n",
       "    <tr>\n",
       "      <th>276</th>\n",
       "      <td>FDY55</td>\n",
       "      <td>16.75</td>\n",
       "      <td>Low Fat</td>\n",
       "      <td>0.081253</td>\n",
       "      <td>Fruits and Vegetables</td>\n",
       "      <td>256.4988</td>\n",
       "      <td>OUT013</td>\n",
       "      <td>1987</td>\n",
       "      <td>Tier 3</td>\n",
       "      <td>Supermarket Type1</td>\n",
       "      <td>7452.9652</td>\n",
       "    </tr>\n",
       "    <tr>\n",
       "      <th>333</th>\n",
       "      <td>FDN58</td>\n",
       "      <td>12.60</td>\n",
       "      <td>Regular</td>\n",
       "      <td>0.056597</td>\n",
       "      <td>Snack Foods</td>\n",
       "      <td>230.9984</td>\n",
       "      <td>OUT027</td>\n",
       "      <td>1985</td>\n",
       "      <td>Tier 3</td>\n",
       "      <td>Supermarket Type3</td>\n",
       "      <td>9267.9360</td>\n",
       "    </tr>\n",
       "    <tr>\n",
       "      <th>456</th>\n",
       "      <td>FDS26</td>\n",
       "      <td>12.60</td>\n",
       "      <td>Low Fat</td>\n",
       "      <td>0.089036</td>\n",
       "      <td>Dairy</td>\n",
       "      <td>260.5594</td>\n",
       "      <td>OUT027</td>\n",
       "      <td>1985</td>\n",
       "      <td>Tier 3</td>\n",
       "      <td>Supermarket Type3</td>\n",
       "      <td>9158.0790</td>\n",
       "    </tr>\n",
       "  </tbody>\n",
       "</table>\n",
       "</div>"
      ],
      "text/plain": [
       "    Item_Identifier  Item_Weight Item_Fat_Content  Item_Visibility  \\\n",
       "130           FDY25        12.60          Low Fat         0.033810   \n",
       "275           FDH19        12.60          Low Fat         0.032928   \n",
       "276           FDY55        16.75          Low Fat         0.081253   \n",
       "333           FDN58        12.60          Regular         0.056597   \n",
       "456           FDS26        12.60          Low Fat         0.089036   \n",
       "\n",
       "                 Item_Type  Item_MRP Outlet_Identifier  \\\n",
       "130                 Canned  180.5976            OUT027   \n",
       "275                   Meat  173.1738            OUT027   \n",
       "276  Fruits and Vegetables  256.4988            OUT013   \n",
       "333            Snack Foods  230.9984            OUT027   \n",
       "456                  Dairy  260.5594            OUT027   \n",
       "\n",
       "     Outlet_Establishment_Year Outlet_Location_Type        Outlet_Type  \\\n",
       "130                       1985               Tier 3  Supermarket Type3   \n",
       "275                       1985               Tier 3  Supermarket Type3   \n",
       "276                       1987               Tier 3  Supermarket Type1   \n",
       "333                       1985               Tier 3  Supermarket Type3   \n",
       "456                       1985               Tier 3  Supermarket Type3   \n",
       "\n",
       "     Item_Outlet_Sales  \n",
       "130          7968.2944  \n",
       "275          7298.4996  \n",
       "276          7452.9652  \n",
       "333          9267.9360  \n",
       "456          9158.0790  "
      ]
     },
     "execution_count": 240,
     "metadata": {},
     "output_type": "execute_result"
    }
   ],
   "source": [
    "out3 = search_outlier(\"Tier 3\")\n",
    "\n",
    "out3.head()"
   ]
  },
  {
   "cell_type": "code",
   "execution_count": 241,
   "metadata": {},
   "outputs": [
    {
     "data": {
      "text/plain": [
       "70"
      ]
     },
     "execution_count": 241,
     "metadata": {},
     "output_type": "execute_result"
    }
   ],
   "source": [
    "out3['Item_Identifier'].count()"
   ]
  },
  {
   "cell_type": "code",
   "execution_count": 242,
   "metadata": {},
   "outputs": [
    {
     "data": {
      "text/plain": [
       "Fruits and Vegetables    15\n",
       "Snack Foods              13\n",
       "Dairy                     9\n",
       "Household                 8\n",
       "Meat                      5\n",
       "Frozen Foods              5\n",
       "Soft Drinks               4\n",
       "Canned                    3\n",
       "Breakfast                 3\n",
       "Baking Goods              2\n",
       "Hard Drinks               1\n",
       "Breads                    1\n",
       "Starchy Foods             1\n",
       "Name: Item_Type, dtype: int64"
      ]
     },
     "execution_count": 242,
     "metadata": {},
     "output_type": "execute_result"
    }
   ],
   "source": [
    "out3['Item_Type'].value_counts()"
   ]
  },
  {
   "cell_type": "code",
   "execution_count": 243,
   "metadata": {
    "scrolled": true
   },
   "outputs": [
    {
     "data": {
      "text/plain": [
       "7192.6374"
      ]
     },
     "execution_count": 243,
     "metadata": {},
     "output_type": "execute_result"
    }
   ],
   "source": [
    "out3['Item_Outlet_Sales'].min()"
   ]
  },
  {
   "cell_type": "markdown",
   "metadata": {},
   "source": [
    "Amongst all the outlier values, fruits and vegetables have the larger number of items as outliers with snack foods and frozens closely behind. This can be justified as fruits and vegetables are more commonly bought than other foods, especially since their shelf life is not very long. As such, this outlier value makes sense. I am surprised by how popular snack foods seem to be, considering that there are a significantly larger number of low fat foods for sale, snacks do very well. "
   ]
  },
  {
   "cell_type": "markdown",
   "metadata": {},
   "source": [
    "<h2>Outlet_Type</h2>"
   ]
  },
  {
   "cell_type": "code",
   "execution_count": 253,
   "metadata": {
    "scrolled": true
   },
   "outputs": [
    {
     "data": {
      "text/plain": [
       "<matplotlib.axes._subplots.AxesSubplot at 0x1a1e920b70>"
      ]
     },
     "execution_count": 253,
     "metadata": {},
     "output_type": "execute_result"
    },
    {
     "data": {
      "image/png": "[encoded data removed]",
      "text/plain": [
       "<Figure size 432x288 with 1 Axes>"
      ]
     },
     "metadata": {},
     "output_type": "display_data"
    }
   ],
   "source": [
    "sns.boxplot(x=data['Outlet_Type'], y=data['Item_Outlet_Sales'])"
   ]
  },
  {
   "cell_type": "code",
   "execution_count": 256,
   "metadata": {},
   "outputs": [],
   "source": [
    "def search_outlier_type(typ):\n",
    "    outlier_type = data[(data['Outlet_Type'] == typ)]\n",
    "    q1 = outlier_type['Item_Outlet_Sales'].quantile(0.25)\n",
    "    q3 = outlier_type['Item_Outlet_Sales'].quantile(0.75)\n",
    "    iqr = q3 - q1\n",
    "    u_fence = q3 + (iqr*1.5)\n",
    "    l_fence = q1 - (iqr*1.5)\n",
    "    \n",
    "    outliers = outlier_type[(outlier_type['Item_Outlet_Sales'] < l_fence) |\n",
    "                            (outlier_type['Item_Outlet_Sales'] > u_fence)]\n",
    "    \n",
    "    return outliers"
   ]
  },
  {
   "cell_type": "code",
   "execution_count": 257,
   "metadata": {},
   "outputs": [
    {
     "data": {
      "text/html": [
       "<div>\n",
       "<style scoped>\n",
       "    .dataframe tbody tr th:only-of-type {\n",
       "        vertical-align: middle;\n",
       "    }\n",
       "\n",
       "    .dataframe tbody tr th {\n",
       "        vertical-align: top;\n",
       "    }\n",
       "\n",
       "    .dataframe thead th {\n",
       "        text-align: right;\n",
       "    }\n",
       "</style>\n",
       "<table border=\"1\" class=\"dataframe\">\n",
       "  <thead>\n",
       "    <tr style=\"text-align: right;\">\n",
       "      <th></th>\n",
       "      <th>Item_Identifier</th>\n",
       "      <th>Item_Weight</th>\n",
       "      <th>Item_Fat_Content</th>\n",
       "      <th>Item_Visibility</th>\n",
       "      <th>Item_Type</th>\n",
       "      <th>Item_MRP</th>\n",
       "      <th>Outlet_Identifier</th>\n",
       "      <th>Outlet_Establishment_Year</th>\n",
       "      <th>Outlet_Location_Type</th>\n",
       "      <th>Outlet_Type</th>\n",
       "      <th>Item_Outlet_Sales</th>\n",
       "    </tr>\n",
       "  </thead>\n",
       "  <tbody>\n",
       "    <tr>\n",
       "      <th>145</th>\n",
       "      <td>FDP16</td>\n",
       "      <td>18.60</td>\n",
       "      <td>Low Fat</td>\n",
       "      <td>0.039356</td>\n",
       "      <td>Frozen Foods</td>\n",
       "      <td>246.3802</td>\n",
       "      <td>OUT049</td>\n",
       "      <td>1999</td>\n",
       "      <td>Tier 1</td>\n",
       "      <td>Supermarket Type1</td>\n",
       "      <td>7370.4060</td>\n",
       "    </tr>\n",
       "    <tr>\n",
       "      <th>146</th>\n",
       "      <td>FDB11</td>\n",
       "      <td>16.00</td>\n",
       "      <td>Low Fat</td>\n",
       "      <td>0.060837</td>\n",
       "      <td>Starchy Foods</td>\n",
       "      <td>226.8404</td>\n",
       "      <td>OUT035</td>\n",
       "      <td>2004</td>\n",
       "      <td>Tier 2</td>\n",
       "      <td>Supermarket Type1</td>\n",
       "      <td>6301.1312</td>\n",
       "    </tr>\n",
       "    <tr>\n",
       "      <th>240</th>\n",
       "      <td>NCR38</td>\n",
       "      <td>17.25</td>\n",
       "      <td>Low Fat</td>\n",
       "      <td>0.113749</td>\n",
       "      <td>Household</td>\n",
       "      <td>251.3724</td>\n",
       "      <td>OUT045</td>\n",
       "      <td>2002</td>\n",
       "      <td>Tier 2</td>\n",
       "      <td>Supermarket Type1</td>\n",
       "      <td>6795.1548</td>\n",
       "    </tr>\n",
       "    <tr>\n",
       "      <th>243</th>\n",
       "      <td>FDY56</td>\n",
       "      <td>16.35</td>\n",
       "      <td>Regular</td>\n",
       "      <td>0.062764</td>\n",
       "      <td>Fruits and Vegetables</td>\n",
       "      <td>227.6062</td>\n",
       "      <td>OUT017</td>\n",
       "      <td>2007</td>\n",
       "      <td>Tier 2</td>\n",
       "      <td>Supermarket Type1</td>\n",
       "      <td>7222.5984</td>\n",
       "    </tr>\n",
       "    <tr>\n",
       "      <th>276</th>\n",
       "      <td>FDY55</td>\n",
       "      <td>16.75</td>\n",
       "      <td>Low Fat</td>\n",
       "      <td>0.081253</td>\n",
       "      <td>Fruits and Vegetables</td>\n",
       "      <td>256.4988</td>\n",
       "      <td>OUT013</td>\n",
       "      <td>1987</td>\n",
       "      <td>Tier 3</td>\n",
       "      <td>Supermarket Type1</td>\n",
       "      <td>7452.9652</td>\n",
       "    </tr>\n",
       "  </tbody>\n",
       "</table>\n",
       "</div>"
      ],
      "text/plain": [
       "    Item_Identifier  Item_Weight Item_Fat_Content  Item_Visibility  \\\n",
       "145           FDP16        18.60          Low Fat         0.039356   \n",
       "146           FDB11        16.00          Low Fat         0.060837   \n",
       "240           NCR38        17.25          Low Fat         0.113749   \n",
       "243           FDY56        16.35          Regular         0.062764   \n",
       "276           FDY55        16.75          Low Fat         0.081253   \n",
       "\n",
       "                 Item_Type  Item_MRP Outlet_Identifier  \\\n",
       "145           Frozen Foods  246.3802            OUT049   \n",
       "146          Starchy Foods  226.8404            OUT035   \n",
       "240              Household  251.3724            OUT045   \n",
       "243  Fruits and Vegetables  227.6062            OUT017   \n",
       "276  Fruits and Vegetables  256.4988            OUT013   \n",
       "\n",
       "     Outlet_Establishment_Year Outlet_Location_Type        Outlet_Type  \\\n",
       "145                       1999               Tier 1  Supermarket Type1   \n",
       "146                       2004               Tier 2  Supermarket Type1   \n",
       "240                       2002               Tier 2  Supermarket Type1   \n",
       "243                       2007               Tier 2  Supermarket Type1   \n",
       "276                       1987               Tier 3  Supermarket Type1   \n",
       "\n",
       "     Item_Outlet_Sales  \n",
       "145          7370.4060  \n",
       "146          6301.1312  \n",
       "240          6795.1548  \n",
       "243          7222.5984  \n",
       "276          7452.9652  "
      ]
     },
     "execution_count": 257,
     "metadata": {},
     "output_type": "execute_result"
    }
   ],
   "source": [
    "supermarket1 = search_outlier_type(\"Supermarket Type1\")\n",
    "\n",
    "supermarket1.head(5)"
   ]
  },
  {
   "cell_type": "code",
   "execution_count": 260,
   "metadata": {
    "scrolled": true
   },
   "outputs": [
    {
     "data": {
      "text/plain": [
       "118"
      ]
     },
     "execution_count": 260,
     "metadata": {},
     "output_type": "execute_result"
    }
   ],
   "source": [
    "supermarket1['Item_Outlet_Sales'].count()"
   ]
  },
  {
   "cell_type": "code",
   "execution_count": 261,
   "metadata": {
    "scrolled": true
   },
   "outputs": [
    {
     "data": {
      "text/plain": [
       "Fruits and Vegetables    22\n",
       "Snack Foods              17\n",
       "Dairy                    13\n",
       "Frozen Foods             13\n",
       "Household                 9\n",
       "Canned                    7\n",
       "Soft Drinks               7\n",
       "Health and Hygiene        7\n",
       "Baking Goods              7\n",
       "Hard Drinks               4\n",
       "Breads                    4\n",
       "Starchy Foods             4\n",
       "Breakfast                 2\n",
       "Seafood                   1\n",
       "Meat                      1\n",
       "Name: Item_Type, dtype: int64"
      ]
     },
     "execution_count": 261,
     "metadata": {},
     "output_type": "execute_result"
    }
   ],
   "source": [
    "supermarket1['Item_Type'].value_counts()"
   ]
  },
  {
   "cell_type": "code",
   "execution_count": 262,
   "metadata": {
    "scrolled": true
   },
   "outputs": [
    {
     "data": {
      "text/html": [
       "<div>\n",
       "<style scoped>\n",
       "    .dataframe tbody tr th:only-of-type {\n",
       "        vertical-align: middle;\n",
       "    }\n",
       "\n",
       "    .dataframe tbody tr th {\n",
       "        vertical-align: top;\n",
       "    }\n",
       "\n",
       "    .dataframe thead th {\n",
       "        text-align: right;\n",
       "    }\n",
       "</style>\n",
       "<table border=\"1\" class=\"dataframe\">\n",
       "  <thead>\n",
       "    <tr style=\"text-align: right;\">\n",
       "      <th></th>\n",
       "      <th>Item_Identifier</th>\n",
       "      <th>Item_Weight</th>\n",
       "      <th>Item_Fat_Content</th>\n",
       "      <th>Item_Visibility</th>\n",
       "      <th>Item_Type</th>\n",
       "      <th>Item_MRP</th>\n",
       "      <th>Outlet_Identifier</th>\n",
       "      <th>Outlet_Establishment_Year</th>\n",
       "      <th>Outlet_Location_Type</th>\n",
       "      <th>Outlet_Type</th>\n",
       "      <th>Item_Outlet_Sales</th>\n",
       "    </tr>\n",
       "  </thead>\n",
       "  <tbody>\n",
       "    <tr>\n",
       "      <th>43</th>\n",
       "      <td>FDC02</td>\n",
       "      <td>21.350</td>\n",
       "      <td>Low Fat</td>\n",
       "      <td>0.069103</td>\n",
       "      <td>Canned</td>\n",
       "      <td>259.9278</td>\n",
       "      <td>OUT018</td>\n",
       "      <td>2009</td>\n",
       "      <td>Tier 3</td>\n",
       "      <td>Supermarket Type2</td>\n",
       "      <td>6768.5228</td>\n",
       "    </tr>\n",
       "    <tr>\n",
       "      <th>55</th>\n",
       "      <td>FDK21</td>\n",
       "      <td>7.905</td>\n",
       "      <td>Low Fat</td>\n",
       "      <td>0.010053</td>\n",
       "      <td>Snack Foods</td>\n",
       "      <td>249.0408</td>\n",
       "      <td>OUT018</td>\n",
       "      <td>2009</td>\n",
       "      <td>Tier 3</td>\n",
       "      <td>Supermarket Type2</td>\n",
       "      <td>6258.5200</td>\n",
       "    </tr>\n",
       "    <tr>\n",
       "      <th>423</th>\n",
       "      <td>FDA27</td>\n",
       "      <td>20.350</td>\n",
       "      <td>Regular</td>\n",
       "      <td>0.053931</td>\n",
       "      <td>Dairy</td>\n",
       "      <td>256.7672</td>\n",
       "      <td>OUT018</td>\n",
       "      <td>2009</td>\n",
       "      <td>Tier 3</td>\n",
       "      <td>Supermarket Type2</td>\n",
       "      <td>5624.6784</td>\n",
       "    </tr>\n",
       "    <tr>\n",
       "      <th>641</th>\n",
       "      <td>FDY51</td>\n",
       "      <td>12.500</td>\n",
       "      <td>Low Fat</td>\n",
       "      <td>0.081465</td>\n",
       "      <td>Meat</td>\n",
       "      <td>220.7798</td>\n",
       "      <td>OUT018</td>\n",
       "      <td>2009</td>\n",
       "      <td>Tier 3</td>\n",
       "      <td>Supermarket Type2</td>\n",
       "      <td>6611.3940</td>\n",
       "    </tr>\n",
       "    <tr>\n",
       "      <th>1103</th>\n",
       "      <td>DRF36</td>\n",
       "      <td>16.100</td>\n",
       "      <td>Low Fat</td>\n",
       "      <td>0.023673</td>\n",
       "      <td>Soft Drinks</td>\n",
       "      <td>189.0846</td>\n",
       "      <td>OUT018</td>\n",
       "      <td>2009</td>\n",
       "      <td>Tier 3</td>\n",
       "      <td>Supermarket Type2</td>\n",
       "      <td>5350.3688</td>\n",
       "    </tr>\n",
       "  </tbody>\n",
       "</table>\n",
       "</div>"
      ],
      "text/plain": [
       "     Item_Identifier  Item_Weight Item_Fat_Content  Item_Visibility  \\\n",
       "43             FDC02       21.350          Low Fat         0.069103   \n",
       "55             FDK21        7.905          Low Fat         0.010053   \n",
       "423            FDA27       20.350          Regular         0.053931   \n",
       "641            FDY51       12.500          Low Fat         0.081465   \n",
       "1103           DRF36       16.100          Low Fat         0.023673   \n",
       "\n",
       "        Item_Type  Item_MRP Outlet_Identifier  Outlet_Establishment_Year  \\\n",
       "43         Canned  259.9278            OUT018                       2009   \n",
       "55    Snack Foods  249.0408            OUT018                       2009   \n",
       "423         Dairy  256.7672            OUT018                       2009   \n",
       "641          Meat  220.7798            OUT018                       2009   \n",
       "1103  Soft Drinks  189.0846            OUT018                       2009   \n",
       "\n",
       "     Outlet_Location_Type        Outlet_Type  Item_Outlet_Sales  \n",
       "43                 Tier 3  Supermarket Type2          6768.5228  \n",
       "55                 Tier 3  Supermarket Type2          6258.5200  \n",
       "423                Tier 3  Supermarket Type2          5624.6784  \n",
       "641                Tier 3  Supermarket Type2          6611.3940  \n",
       "1103               Tier 3  Supermarket Type2          5350.3688  "
      ]
     },
     "execution_count": 262,
     "metadata": {},
     "output_type": "execute_result"
    }
   ],
   "source": [
    "supermarket2 = search_outlier_type(\"Supermarket Type2\")\n",
    "\n",
    "supermarket2.head(5)"
   ]
  },
  {
   "cell_type": "code",
   "execution_count": 263,
   "metadata": {},
   "outputs": [
    {
     "data": {
      "text/plain": [
       "33"
      ]
     },
     "execution_count": 263,
     "metadata": {},
     "output_type": "execute_result"
    }
   ],
   "source": [
    "supermarket2['Item_Outlet_Sales'].count()"
   ]
  },
  {
   "cell_type": "code",
   "execution_count": 264,
   "metadata": {
    "scrolled": true
   },
   "outputs": [
    {
     "data": {
      "text/plain": [
       "Fruits and Vegetables    5\n",
       "Dairy                    3\n",
       "Snack Foods              3\n",
       "Frozen Foods             3\n",
       "Household                3\n",
       "Seafood                  2\n",
       "Breads                   2\n",
       "Canned                   2\n",
       "Soft Drinks              2\n",
       "Meat                     2\n",
       "Health and Hygiene       2\n",
       "Baking Goods             2\n",
       "Others                   1\n",
       "Breakfast                1\n",
       "Name: Item_Type, dtype: int64"
      ]
     },
     "execution_count": 264,
     "metadata": {},
     "output_type": "execute_result"
    }
   ],
   "source": [
    "supermarket2['Item_Type'].value_counts()"
   ]
  },
  {
   "cell_type": "code",
   "execution_count": 265,
   "metadata": {},
   "outputs": [
    {
     "data": {
      "text/html": [
       "<div>\n",
       "<style scoped>\n",
       "    .dataframe tbody tr th:only-of-type {\n",
       "        vertical-align: middle;\n",
       "    }\n",
       "\n",
       "    .dataframe tbody tr th {\n",
       "        vertical-align: top;\n",
       "    }\n",
       "\n",
       "    .dataframe thead th {\n",
       "        text-align: right;\n",
       "    }\n",
       "</style>\n",
       "<table border=\"1\" class=\"dataframe\">\n",
       "  <thead>\n",
       "    <tr style=\"text-align: right;\">\n",
       "      <th></th>\n",
       "      <th>Item_Identifier</th>\n",
       "      <th>Item_Weight</th>\n",
       "      <th>Item_Fat_Content</th>\n",
       "      <th>Item_Visibility</th>\n",
       "      <th>Item_Type</th>\n",
       "      <th>Item_MRP</th>\n",
       "      <th>Outlet_Identifier</th>\n",
       "      <th>Outlet_Establishment_Year</th>\n",
       "      <th>Outlet_Location_Type</th>\n",
       "      <th>Outlet_Type</th>\n",
       "      <th>Item_Outlet_Sales</th>\n",
       "    </tr>\n",
       "  </thead>\n",
       "  <tbody>\n",
       "    <tr>\n",
       "      <th>1009</th>\n",
       "      <td>FDU14</td>\n",
       "      <td>12.6</td>\n",
       "      <td>Low Fat</td>\n",
       "      <td>0.034584</td>\n",
       "      <td>Dairy</td>\n",
       "      <td>248.3750</td>\n",
       "      <td>OUT027</td>\n",
       "      <td>1985</td>\n",
       "      <td>Tier 3</td>\n",
       "      <td>Supermarket Type3</td>\n",
       "      <td>10236.6750</td>\n",
       "    </tr>\n",
       "    <tr>\n",
       "      <th>1450</th>\n",
       "      <td>FDZ20</td>\n",
       "      <td>12.6</td>\n",
       "      <td>Low Fat</td>\n",
       "      <td>0.053931</td>\n",
       "      <td>Fruits and Vegetables</td>\n",
       "      <td>253.0356</td>\n",
       "      <td>OUT027</td>\n",
       "      <td>1985</td>\n",
       "      <td>Tier 3</td>\n",
       "      <td>Supermarket Type3</td>\n",
       "      <td>11445.1020</td>\n",
       "    </tr>\n",
       "    <tr>\n",
       "      <th>3098</th>\n",
       "      <td>FDY02</td>\n",
       "      <td>12.6</td>\n",
       "      <td>Regular</td>\n",
       "      <td>0.087221</td>\n",
       "      <td>Dairy</td>\n",
       "      <td>263.9910</td>\n",
       "      <td>OUT027</td>\n",
       "      <td>1985</td>\n",
       "      <td>Tier 3</td>\n",
       "      <td>Supermarket Type3</td>\n",
       "      <td>9467.6760</td>\n",
       "    </tr>\n",
       "    <tr>\n",
       "      <th>4349</th>\n",
       "      <td>FDP33</td>\n",
       "      <td>12.6</td>\n",
       "      <td>Low Fat</td>\n",
       "      <td>0.088840</td>\n",
       "      <td>Snack Foods</td>\n",
       "      <td>254.2672</td>\n",
       "      <td>OUT027</td>\n",
       "      <td>1985</td>\n",
       "      <td>Tier 3</td>\n",
       "      <td>Supermarket Type3</td>\n",
       "      <td>10993.6896</td>\n",
       "    </tr>\n",
       "    <tr>\n",
       "      <th>5223</th>\n",
       "      <td>FDQ19</td>\n",
       "      <td>12.6</td>\n",
       "      <td>Regular</td>\n",
       "      <td>0.014296</td>\n",
       "      <td>Fruits and Vegetables</td>\n",
       "      <td>242.6512</td>\n",
       "      <td>OUT027</td>\n",
       "      <td>1985</td>\n",
       "      <td>Tier 3</td>\n",
       "      <td>Supermarket Type3</td>\n",
       "      <td>12117.5600</td>\n",
       "    </tr>\n",
       "  </tbody>\n",
       "</table>\n",
       "</div>"
      ],
      "text/plain": [
       "     Item_Identifier  Item_Weight Item_Fat_Content  Item_Visibility  \\\n",
       "1009           FDU14         12.6          Low Fat         0.034584   \n",
       "1450           FDZ20         12.6          Low Fat         0.053931   \n",
       "3098           FDY02         12.6          Regular         0.087221   \n",
       "4349           FDP33         12.6          Low Fat         0.088840   \n",
       "5223           FDQ19         12.6          Regular         0.014296   \n",
       "\n",
       "                  Item_Type  Item_MRP Outlet_Identifier  \\\n",
       "1009                  Dairy  248.3750            OUT027   \n",
       "1450  Fruits and Vegetables  253.0356            OUT027   \n",
       "3098                  Dairy  263.9910            OUT027   \n",
       "4349            Snack Foods  254.2672            OUT027   \n",
       "5223  Fruits and Vegetables  242.6512            OUT027   \n",
       "\n",
       "      Outlet_Establishment_Year Outlet_Location_Type        Outlet_Type  \\\n",
       "1009                       1985               Tier 3  Supermarket Type3   \n",
       "1450                       1985               Tier 3  Supermarket Type3   \n",
       "3098                       1985               Tier 3  Supermarket Type3   \n",
       "4349                       1985               Tier 3  Supermarket Type3   \n",
       "5223                       1985               Tier 3  Supermarket Type3   \n",
       "\n",
       "      Item_Outlet_Sales  \n",
       "1009         10236.6750  \n",
       "1450         11445.1020  \n",
       "3098          9467.6760  \n",
       "4349         10993.6896  \n",
       "5223         12117.5600  "
      ]
     },
     "execution_count": 265,
     "metadata": {},
     "output_type": "execute_result"
    }
   ],
   "source": [
    "supermarket3 = search_outlier_type(\"Supermarket Type3\")\n",
    "\n",
    "supermarket3.head(5)"
   ]
  },
  {
   "cell_type": "code",
   "execution_count": 266,
   "metadata": {},
   "outputs": [
    {
     "data": {
      "text/plain": [
       "12"
      ]
     },
     "execution_count": 266,
     "metadata": {},
     "output_type": "execute_result"
    }
   ],
   "source": [
    "supermarket3['Item_Outlet_Sales'].count()"
   ]
  },
  {
   "cell_type": "code",
   "execution_count": 267,
   "metadata": {},
   "outputs": [
    {
     "data": {
      "text/plain": [
       "Fruits and Vegetables    3\n",
       "Dairy                    2\n",
       "Household                2\n",
       "Canned                   1\n",
       "Soft Drinks              1\n",
       "Snack Foods              1\n",
       "Meat                     1\n",
       "Frozen Foods             1\n",
       "Name: Item_Type, dtype: int64"
      ]
     },
     "execution_count": 267,
     "metadata": {},
     "output_type": "execute_result"
    }
   ],
   "source": [
    "supermarket3['Item_Type'].value_counts()"
   ]
  },
  {
   "cell_type": "code",
   "execution_count": 268,
   "metadata": {},
   "outputs": [
    {
     "data": {
      "text/html": [
       "<div>\n",
       "<style scoped>\n",
       "    .dataframe tbody tr th:only-of-type {\n",
       "        vertical-align: middle;\n",
       "    }\n",
       "\n",
       "    .dataframe tbody tr th {\n",
       "        vertical-align: top;\n",
       "    }\n",
       "\n",
       "    .dataframe thead th {\n",
       "        text-align: right;\n",
       "    }\n",
       "</style>\n",
       "<table border=\"1\" class=\"dataframe\">\n",
       "  <thead>\n",
       "    <tr style=\"text-align: right;\">\n",
       "      <th></th>\n",
       "      <th>Item_Identifier</th>\n",
       "      <th>Item_Weight</th>\n",
       "      <th>Item_Fat_Content</th>\n",
       "      <th>Item_Visibility</th>\n",
       "      <th>Item_Type</th>\n",
       "      <th>Item_MRP</th>\n",
       "      <th>Outlet_Identifier</th>\n",
       "      <th>Outlet_Establishment_Year</th>\n",
       "      <th>Outlet_Location_Type</th>\n",
       "      <th>Outlet_Type</th>\n",
       "      <th>Item_Outlet_Sales</th>\n",
       "    </tr>\n",
       "  </thead>\n",
       "  <tbody>\n",
       "    <tr>\n",
       "      <th>393</th>\n",
       "      <td>FDU02</td>\n",
       "      <td>12.60</td>\n",
       "      <td>Low Fat</td>\n",
       "      <td>0.179484</td>\n",
       "      <td>Dairy</td>\n",
       "      <td>228.9352</td>\n",
       "      <td>OUT019</td>\n",
       "      <td>1985</td>\n",
       "      <td>Tier 1</td>\n",
       "      <td>Grocery Store</td>\n",
       "      <td>916.1408</td>\n",
       "    </tr>\n",
       "    <tr>\n",
       "      <th>547</th>\n",
       "      <td>FDD29</td>\n",
       "      <td>12.15</td>\n",
       "      <td>Low Fat</td>\n",
       "      <td>0.030815</td>\n",
       "      <td>Frozen Foods</td>\n",
       "      <td>252.0698</td>\n",
       "      <td>OUT010</td>\n",
       "      <td>1998</td>\n",
       "      <td>Tier 3</td>\n",
       "      <td>Grocery Store</td>\n",
       "      <td>1014.6792</td>\n",
       "    </tr>\n",
       "    <tr>\n",
       "      <th>1088</th>\n",
       "      <td>FDL13</td>\n",
       "      <td>12.60</td>\n",
       "      <td>Regular</td>\n",
       "      <td>0.098607</td>\n",
       "      <td>Breakfast</td>\n",
       "      <td>232.7300</td>\n",
       "      <td>OUT019</td>\n",
       "      <td>1985</td>\n",
       "      <td>Tier 1</td>\n",
       "      <td>Grocery Store</td>\n",
       "      <td>932.1200</td>\n",
       "    </tr>\n",
       "    <tr>\n",
       "      <th>1120</th>\n",
       "      <td>NCX41</td>\n",
       "      <td>19.00</td>\n",
       "      <td>Low Fat</td>\n",
       "      <td>0.053931</td>\n",
       "      <td>Health and Hygiene</td>\n",
       "      <td>211.0244</td>\n",
       "      <td>OUT010</td>\n",
       "      <td>1998</td>\n",
       "      <td>Tier 3</td>\n",
       "      <td>Grocery Store</td>\n",
       "      <td>1482.0708</td>\n",
       "    </tr>\n",
       "    <tr>\n",
       "      <th>1380</th>\n",
       "      <td>FDJ55</td>\n",
       "      <td>12.80</td>\n",
       "      <td>Regular</td>\n",
       "      <td>0.039386</td>\n",
       "      <td>Meat</td>\n",
       "      <td>224.8404</td>\n",
       "      <td>OUT010</td>\n",
       "      <td>1998</td>\n",
       "      <td>Tier 3</td>\n",
       "      <td>Grocery Store</td>\n",
       "      <td>1575.2828</td>\n",
       "    </tr>\n",
       "  </tbody>\n",
       "</table>\n",
       "</div>"
      ],
      "text/plain": [
       "     Item_Identifier  Item_Weight Item_Fat_Content  Item_Visibility  \\\n",
       "393            FDU02        12.60          Low Fat         0.179484   \n",
       "547            FDD29        12.15          Low Fat         0.030815   \n",
       "1088           FDL13        12.60          Regular         0.098607   \n",
       "1120           NCX41        19.00          Low Fat         0.053931   \n",
       "1380           FDJ55        12.80          Regular         0.039386   \n",
       "\n",
       "               Item_Type  Item_MRP Outlet_Identifier  \\\n",
       "393                Dairy  228.9352            OUT019   \n",
       "547         Frozen Foods  252.0698            OUT010   \n",
       "1088           Breakfast  232.7300            OUT019   \n",
       "1120  Health and Hygiene  211.0244            OUT010   \n",
       "1380                Meat  224.8404            OUT010   \n",
       "\n",
       "      Outlet_Establishment_Year Outlet_Location_Type    Outlet_Type  \\\n",
       "393                        1985               Tier 1  Grocery Store   \n",
       "547                        1998               Tier 3  Grocery Store   \n",
       "1088                       1985               Tier 1  Grocery Store   \n",
       "1120                       1998               Tier 3  Grocery Store   \n",
       "1380                       1998               Tier 3  Grocery Store   \n",
       "\n",
       "      Item_Outlet_Sales  \n",
       "393            916.1408  \n",
       "547           1014.6792  \n",
       "1088           932.1200  \n",
       "1120          1482.0708  \n",
       "1380          1575.2828  "
      ]
     },
     "execution_count": 268,
     "metadata": {},
     "output_type": "execute_result"
    }
   ],
   "source": [
    "grocer = search_outlier_type(\"Grocery Store\")\n",
    "\n",
    "grocer.head(5)"
   ]
  },
  {
   "cell_type": "code",
   "execution_count": 270,
   "metadata": {},
   "outputs": [
    {
     "data": {
      "text/plain": [
       "43"
      ]
     },
     "execution_count": 270,
     "metadata": {},
     "output_type": "execute_result"
    }
   ],
   "source": [
    "grocer['Item_Outlet_Sales'].count()"
   ]
  },
  {
   "cell_type": "code",
   "execution_count": 271,
   "metadata": {},
   "outputs": [
    {
     "data": {
      "text/plain": [
       "Frozen Foods             7\n",
       "Household                7\n",
       "Snack Foods              6\n",
       "Meat                     4\n",
       "Canned                   3\n",
       "Soft Drinks              3\n",
       "Fruits and Vegetables    3\n",
       "Dairy                    3\n",
       "Health and Hygiene       3\n",
       "Breads                   2\n",
       "Breakfast                2\n",
       "Name: Item_Type, dtype: int64"
      ]
     },
     "execution_count": 271,
     "metadata": {},
     "output_type": "execute_result"
    }
   ],
   "source": [
    "grocer['Item_Type'].value_counts()"
   ]
  },
  {
   "cell_type": "markdown",
   "metadata": {},
   "source": [
    "Supermarket Type3 performs very well considering it only accounts for 11% of all the types. That means its operations are superior as they have larger medians as opposed to the other 3. I expected Supermarket Type1 to perform stronger since it boasts the most percentage of stores (65%) but it seems that it performs just slightly better than Supermarket Type2. Grocery has the lowest which is expected since it is smaller than a supermarket. "
   ]
  },
  {
   "cell_type": "markdown",
   "metadata": {},
   "source": [
    "<h2>Finding strongest predictors for outlet sales</h2>"
   ]
  },
  {
   "cell_type": "code",
   "execution_count": 251,
   "metadata": {},
   "outputs": [
    {
     "data": {
      "image/png": "[encoded data removed]",
      "text/plain": [
       "<Figure size 720x720 with 2 Axes>"
      ]
     },
     "metadata": {},
     "output_type": "display_data"
    }
   ],
   "source": [
    "correlation = data.loc[:, :]\n",
    "\n",
    "from sklearn.preprocessing import LabelEncoder\n",
    "correlation = correlation.agg(LabelEncoder().fit_transform)\n",
    "correlation['Item_Outlet_Sales'] = data.Item_Outlet_Sales \n",
    "correlation = correlation.set_index('Item_Outlet_Sales').reset_index()\n",
    "\n",
    "fig, ax = plt.subplots(figsize=(10,10))         # Sample figsize in inches\n",
    "\n",
    "'''Now create the heatmap correlation.'''\n",
    "sns.heatmap(correlation.corr(), cmap ='BrBG', annot = True, ax=ax)\n",
    "plt.title('Variables Correlation')\n",
    "plt.show()\n",
    "\n",
    "\n",
    "\n",
    "\n"
   ]
  },
  {
   "cell_type": "code",
   "execution_count": 333,
   "metadata": {},
   "outputs": [],
   "source": [
    "data = data.drop(columns='Item_Identifier', axis=1)"
   ]
  },
  {
   "cell_type": "markdown",
   "metadata": {},
   "source": [
    "Based on the heatmap, it turns out item_mrp has the strongest correlation with 0.57. I had originally thought it would not be a significant predictor but I was proven wrong. Next time, I will look at the heatmap first to identify strong predictors instead of testing my own hypothesis. For example, I thought location_type would be significant since a store in a busy and large demographic area should perform strongly but the correlation is not even 1% in this dataset. \n",
    "\n",
    "Other strong predictors are outlet_type and outlet_identifier which we did exploratory work on and can see the relation with sales. Supermarket type 3 and OUT027 for example performed very well in comparison to the others. On the opposite end, groceries performed the worst most likely due to thier size disadvantage. "
   ]
  },
  {
   "cell_type": "markdown",
   "metadata": {},
   "source": [
    "<h1>Machine Learning</h2>"
   ]
  },
  {
   "cell_type": "code",
   "execution_count": 361,
   "metadata": {
    "scrolled": true
   },
   "outputs": [
    {
     "data": {
      "text/plain": [
       "array([[<matplotlib.axes._subplots.AxesSubplot object at 0x1a214c0748>,\n",
       "        <matplotlib.axes._subplots.AxesSubplot object at 0x1a214d5cf8>],\n",
       "       [<matplotlib.axes._subplots.AxesSubplot object at 0x1a1c9d33c8>,\n",
       "        <matplotlib.axes._subplots.AxesSubplot object at 0x1a1d3b0a58>]],\n",
       "      dtype=object)"
      ]
     },
     "execution_count": 361,
     "metadata": {},
     "output_type": "execute_result"
    },
    {
     "data": {
      "image/png": "[encoded data removed]",
      "text/plain": [
       "<Figure size 432x288 with 4 Axes>"
      ]
     },
     "metadata": {},
     "output_type": "display_data"
    }
   ],
   "source": [
    "sales = pd.DataFrame({\"sales\":data['Item_Outlet_Sales'], \"log(sales+1)\":np.log1p(data['Item_Outlet_Sales']), \"root(sales)\":np.sqrt(data['Item_Outlet_Sales'])})\n",
    "\n",
    "sales.hist()"
   ]
  },
  {
   "cell_type": "markdown",
   "metadata": {},
   "source": [
    "I found that by applying a square root function over the values in data['Item_Outlet_Sales'], I was able to get the distribution of its values closer to that of a Gaussian Distribution. I wasn't sure if this would make an impact on our specific dataset so I tried using with and without the sqaure root application. Thus, I have split our data into 2 seperate sets to compare this difference. "
   ]
  },
  {
   "cell_type": "code",
   "execution_count": 339,
   "metadata": {},
   "outputs": [],
   "source": [
    "from sklearn.cross_validation import train_test_split\n",
    "\n",
    "data1 = pd.get_dummies(data)\n",
    "\n",
    "#splitting our data (without adjusting sales)\n",
    "train, test = train_test_split(data1, test_size=0.2)\n",
    "\n",
    "train_x = train.drop(columns='Item_Outlet_Sales', axis=1)\n",
    "train_y = train.Item_Outlet_Sales\n",
    "\n",
    "test_x = test.drop(columns='Item_Outlet_Sales', axis=1)\n",
    "test_y = test.Item_Outlet_Sales"
   ]
  },
  {
   "cell_type": "code",
   "execution_count": 340,
   "metadata": {
    "scrolled": true
   },
   "outputs": [],
   "source": [
    "data2 = data\n",
    "\n",
    "data2.Item_Outlet_Sales = np.sqrt(data['Item_Outlet_Sales'])"
   ]
  },
  {
   "cell_type": "code",
   "execution_count": 341,
   "metadata": {},
   "outputs": [],
   "source": [
    "#splitting our data (with adjusting sales)\n",
    "data_sqrt = pd.get_dummies(data2)\n",
    "\n",
    "sqrt_train, sqrt_test = train_test_split(data_sqrt, test_size=0.2)\n",
    "\n",
    "sqrt_train_x = sqrt_train.drop(columns='Item_Outlet_Sales', axis=1)\n",
    "sqrt_train_y = sqrt_train.Item_Outlet_Sales\n",
    "\n",
    "sqrt_test_x = sqrt_test.drop(columns='Item_Outlet_Sales', axis=1)\n",
    "sqrt_test_y = sqrt_test.Item_Outlet_Sales"
   ]
  },
  {
   "cell_type": "markdown",
   "metadata": {},
   "source": [
    "<h2>Linear Regression</h2>"
   ]
  },
  {
   "cell_type": "code",
   "execution_count": 320,
   "metadata": {},
   "outputs": [],
   "source": [
    "from sklearn.model_selection import cross_val_score\n",
    "\n",
    "def rmse_cv_train(model):\n",
    "    rmse= np.sqrt(-cross_val_score(model, train_x, train_y, scoring=\"neg_mean_squared_error\", cv = 5))\n",
    "    return(rmse)\n",
    "\n",
    "def rmse_cv_test(model):\n",
    "    rmse= np.sqrt(-cross_val_score(model, test_x, test_y, scoring=\"neg_mean_squared_error\", cv = 5))\n",
    "    return(rmse)"
   ]
  },
  {
   "cell_type": "code",
   "execution_count": 321,
   "metadata": {},
   "outputs": [
    {
     "name": "stdout",
     "output_type": "stream",
     "text": [
      "RMSE on Training set : 1131.7985178840693\n",
      "RMSE on Test set : 1127.4608818299992\n"
     ]
    }
   ],
   "source": [
    "from sklearn.linear_model import LinearRegression, RidgeCV, LassoCV, ElasticNetCV\n",
    "\n",
    "lr = LinearRegression()\n",
    "lr.fit(train_x, train_y)\n",
    "\n",
    "print(\"RMSE on Training set :\", rmse_cv_train(lr).mean())\n",
    "print(\"RMSE on Test set :\", rmse_cv_test(lr).mean())"
   ]
  },
  {
   "cell_type": "code",
   "execution_count": 322,
   "metadata": {},
   "outputs": [],
   "source": [
    "train_pred_y = lr.predict(train_x)\n",
    "test_pred_y = lr.predict(test_x)"
   ]
  },
  {
   "cell_type": "code",
   "execution_count": 323,
   "metadata": {
    "scrolled": false
   },
   "outputs": [
    {
     "data": {
      "image/png": "[encoded data removed]",
      "text/plain": [
       "<Figure size 432x288 with 1 Axes>"
      ]
     },
     "metadata": {},
     "output_type": "display_data"
    },
    {
     "data": {
      "image/png": "[encoded data removed]",
      "text/plain": [
       "<Figure size 432x288 with 1 Axes>"
      ]
     },
     "metadata": {},
     "output_type": "display_data"
    }
   ],
   "source": [
    "# Plot residuals\n",
    "plt.scatter(train_pred_y, train_pred_y - train_y, c = \"blue\", marker = \"s\", label = \"Training data\")\n",
    "plt.scatter(test_pred_y, test_pred_y - test_y, c = \"lightgreen\", marker = \"s\", label = \"Validation data\")\n",
    "plt.title(\"Linear regression\")\n",
    "plt.xlabel(\"Predicted values\")\n",
    "plt.ylabel(\"Residuals\")\n",
    "plt.legend(loc = \"upper left\")\n",
    "plt.hlines(y = 0, xmin = 10.5, xmax = 13.5, color = \"red\")\n",
    "plt.show()\n",
    "\n",
    "# Plot predictions\n",
    "plt.scatter(train_pred_y, train_y, c = \"blue\", marker = \"s\", label = \"Training data\")\n",
    "plt.scatter(test_pred_y, test_y, c = \"lightgreen\", marker = \"s\", label = \"Validation data\")\n",
    "plt.title(\"Linear regression\")\n",
    "plt.xlabel(\"Predicted values\")\n",
    "plt.ylabel(\"Real values\")\n",
    "plt.legend(loc = \"upper left\")\n",
    "plt.plot([10.5, 13.5], [10.5, 13.5], c = \"red\")\n",
    "plt.show()"
   ]
  },
  {
   "cell_type": "markdown",
   "metadata": {},
   "source": [
    "Using the data without adjusting the sales, we see that our residuals are quite large. This means our model was not able to capture the data well. As for our real values vs predicted, we see that there's a trend going upwards almost like an exponential function. It may be better to transform our data with log to try and cancel this behaviour into a linear model. "
   ]
  },
  {
   "cell_type": "code",
   "execution_count": 342,
   "metadata": {},
   "outputs": [],
   "source": [
    "def sqrt_rmse_cv_train(model):\n",
    "    rmse= np.sqrt(-cross_val_score(model, sqrt_train_x, sqrt_train_y, scoring=\"neg_mean_squared_error\", cv = 5))\n",
    "    return(rmse)\n",
    "\n",
    "def sqrt_rmse_cv_test(model):\n",
    "    rmse= np.sqrt(-cross_val_score(model, sqrt_test_x, sqrt_test_y, scoring=\"neg_mean_squared_error\", cv = 5))\n",
    "    return(rmse)"
   ]
  },
  {
   "cell_type": "code",
   "execution_count": 343,
   "metadata": {},
   "outputs": [
    {
     "name": "stdout",
     "output_type": "stream",
     "text": [
      "RMSE on Training set : 0.814220951185501\n",
      "RMSE on Test set : 0.8154715667254573\n"
     ]
    }
   ],
   "source": [
    "lr = LinearRegression()\n",
    "lr.fit(sqrt_train_x, sqrt_train_y)\n",
    "\n",
    "print(\"RMSE on Training set :\", sqrt_rmse_cv_train(lr).mean())\n",
    "print(\"RMSE on Test set :\", sqrt_rmse_cv_test(lr).mean())"
   ]
  },
  {
   "cell_type": "code",
   "execution_count": 344,
   "metadata": {},
   "outputs": [],
   "source": [
    "sqrt_train_pred_y = lr.predict(sqrt_train_x)\n",
    "sqrt_test_pred_y = lr.predict(sqrt_test_x)"
   ]
  },
  {
   "cell_type": "code",
   "execution_count": 345,
   "metadata": {},
   "outputs": [
    {
     "data": {
      "image/png": "[encoded data removed]",
      "text/plain": [
       "<Figure size 432x288 with 1 Axes>"
      ]
     },
     "metadata": {},
     "output_type": "display_data"
    },
    {
     "data": {
      "image/png": "[encoded data removed]",
      "text/plain": [
       "<Figure size 432x288 with 1 Axes>"
      ]
     },
     "metadata": {},
     "output_type": "display_data"
    }
   ],
   "source": [
    "# Plot residuals\n",
    "plt.scatter(sqrt_train_pred_y, sqrt_train_pred_y - sqrt_train_y, c = \"blue\", marker = \"s\", label = \"Training data\")\n",
    "plt.scatter(sqrt_test_pred_y, sqrt_test_pred_y - sqrt_test_y, c = \"lightgreen\", marker = \"s\", label = \"Validation data\")\n",
    "plt.title(\"Linear regression\")\n",
    "plt.xlabel(\"Predicted values\")\n",
    "plt.ylabel(\"Residuals\")\n",
    "plt.legend(loc = \"upper left\")\n",
    "plt.hlines(y = 0, xmin = 10.5, xmax = 13.5, color = \"red\")\n",
    "plt.show()\n",
    "\n",
    "# Plot predictions\n",
    "plt.scatter(sqrt_train_pred_y, sqrt_train_y, c = \"blue\", marker = \"s\", label = \"Training data\")\n",
    "plt.scatter(sqrt_test_pred_y, sqrt_test_y, c = \"lightgreen\", marker = \"s\", label = \"Validation data\")\n",
    "plt.title(\"Linear regression\")\n",
    "plt.xlabel(\"Predicted values\")\n",
    "plt.ylabel(\"Real values\")\n",
    "plt.legend(loc = \"upper left\")\n",
    "plt.plot([10.5, 13.5], [10.5, 13.5], c = \"red\")\n",
    "plt.show()"
   ]
  },
  {
   "cell_type": "markdown",
   "metadata": {},
   "source": [
    "Having applied the square root function over our outlet sales data, we notice that our RMSE falls considerably. Additionally, we notice that our residuals are closer to the center line indicating better capturing of our data. Moreover, as we predicted before, the real values and predicted values now follow a more linear model as opposed to the exponential before. As such, I can conclude that applying the square root over sales for normal distribution paid off and we will now use that data for our next models. "
   ]
  },
  {
   "cell_type": "markdown",
   "metadata": {},
   "source": [
    "<h2>Linear Regression with Ridge Regularization</h2>"
   ]
  },
  {
   "cell_type": "code",
   "execution_count": 347,
   "metadata": {},
   "outputs": [
    {
     "name": "stdout",
     "output_type": "stream",
     "text": [
      "Best alpha : 10.0\n"
     ]
    }
   ],
   "source": [
    "ridge = RidgeCV(alphas = [0.01, 0.03, 0.06, 0.1, 0.3, 0.6, 1, 3, 6, 10, 30, 60])\n",
    "ridge.fit(sqrt_train_x, sqrt_train_y)\n",
    "alpha = ridge.alpha_\n",
    "print(\"Best alpha :\", alpha)"
   ]
  },
  {
   "cell_type": "code",
   "execution_count": 349,
   "metadata": {},
   "outputs": [
    {
     "name": "stdout",
     "output_type": "stream",
     "text": [
      "Try again for more precision with alphas centered around 10.0\n",
      "Best alpha : 14.0\n"
     ]
    }
   ],
   "source": [
    "print(\"Try again for more precision with alphas centered around \" + str(alpha))\n",
    "ridge = RidgeCV(alphas = [alpha * .6, alpha * .65, alpha * .7, alpha * .75, alpha * .8, alpha * .85, \n",
    "                          alpha * .9, alpha * .95, alpha, alpha * 1.05, alpha * 1.1, alpha * 1.15,\n",
    "                          alpha * 1.25, alpha * 1.3, alpha * 1.35, alpha * 1.4], \n",
    "                cv = 10)\n",
    "ridge.fit(sqrt_train_x, sqrt_train_y)\n",
    "alpha = ridge.alpha_\n",
    "print(\"Best alpha :\", alpha)"
   ]
  },
  {
   "cell_type": "code",
   "execution_count": 350,
   "metadata": {},
   "outputs": [
    {
     "name": "stdout",
     "output_type": "stream",
     "text": [
      "Ridge RMSE on Training set : 0.8139358330365521\n",
      "Ridge RMSE on Test set : 0.8142322366977954\n"
     ]
    }
   ],
   "source": [
    "print(\"Ridge RMSE on Training set :\", sqrt_rmse_cv_train(ridge).mean())\n",
    "print(\"Ridge RMSE on Test set :\", sqrt_rmse_cv_test(ridge).mean())"
   ]
  },
  {
   "cell_type": "code",
   "execution_count": 352,
   "metadata": {
    "scrolled": false
   },
   "outputs": [
    {
     "data": {
      "image/png": "[encoded data removed]",
      "text/plain": [
       "<Figure size 432x288 with 1 Axes>"
      ]
     },
     "metadata": {},
     "output_type": "display_data"
    },
    {
     "data": {
      "image/png": "[encoded data removed]",
      "text/plain": [
       "<Figure size 432x288 with 1 Axes>"
      ]
     },
     "metadata": {},
     "output_type": "display_data"
    }
   ],
   "source": [
    "ridge_train_pred = ridge.predict(sqrt_train_x)\n",
    "ridge_test_pred = ridge.predict(sqrt_test_x)\n",
    "\n",
    "#plot residuals\n",
    "plt.scatter(ridge_train_pred, ridge_train_pred - sqrt_train_y, c = \"blue\", marker = \"s\", label = \"Training data\")\n",
    "plt.scatter(ridge_test_pred, ridge_test_pred - sqrt_test_y, c = \"lightgreen\", marker = \"s\", label = \"Validation data\")\n",
    "plt.title(\"Ridge Regression\")\n",
    "plt.xlabel(\"Predicted Values\")\n",
    "plt.ylabel(\"Residuals\")\n",
    "plt.legend(loc = \"upper left\")\n",
    "plt.hlines(y = 0, xmin = 10.5, xmax = 13.5, color = \"red\")\n",
    "plt.show()\n",
    "\n",
    "#plot Predictions\n",
    "plt.scatter(ridge_train_pred, sqrt_train_y, c = \"blue\", marker = \"s\", label = \"Training data\")\n",
    "plt.scatter(ridge_test_pred, sqrt_test_y, c = \"lightgreen\", marker = \"s\", label = \"Validation data\")\n",
    "plt.title(\"Ridge Regression\")\n",
    "plt.xlabel(\"Predicted Values\")\n",
    "plt.ylabel(\"Real Values\")\n",
    "plt.legend(loc = \"upper left\")\n",
    "plt.plot([10.5, 13.5], [10.5, 13.5], c = \"red\")\n",
    "plt.show()"
   ]
  },
  {
   "cell_type": "code",
   "execution_count": 353,
   "metadata": {
    "scrolled": true
   },
   "outputs": [
    {
     "name": "stdout",
     "output_type": "stream",
     "text": [
      "Ridge picked 39 features and eliminated the other 0 features\n"
     ]
    },
    {
     "data": {
      "image/png": "[encoded data removed]",
      "text/plain": [
       "<Figure size 432x288 with 1 Axes>"
      ]
     },
     "metadata": {},
     "output_type": "display_data"
    }
   ],
   "source": [
    "coefs = pd.Series(ridge.coef_, index = train_x.columns)\n",
    "print(\"Ridge picked \" + str(sum(coefs != 0)) + \" features and eliminated the other \" +  \\\n",
    "      str(sum(coefs == 0)) + \" features\")\n",
    "imp_coefs = pd.concat([coefs.sort_values().head(10),\n",
    "                     coefs.sort_values().tail(10)])\n",
    "imp_coefs.plot(kind = \"barh\")\n",
    "plt.title(\"Coefficients in the Ridge Model\")\n",
    "plt.show()"
   ]
  },
  {
   "cell_type": "markdown",
   "metadata": {},
   "source": [
    "Based on the coefficient chart, we see that outlet_identifier OUT027 and supermarket type3 which we saw generated the best results in terms of sales were given stronger coefficients. We also see that grocery store type was given the least as it consists of the fewest data points and its values are much lesser than the rest, the algorithm may have found that its values were lowering the predicted values and generating too much error. \n",
    "\n",
    "Additionally, we see that ridege regression did not perform much better than the linear regression model. This is probably due to the fact that our data is not too complex and thus there was not much regularization could do. The coefficients that the linear model gave were thus very accurate as to match the ridge regression results. "
   ]
  },
  {
   "cell_type": "markdown",
   "metadata": {},
   "source": [
    "<h2>Linear Regression with Lasso Regularization</h2>"
   ]
  },
  {
   "cell_type": "code",
   "execution_count": 356,
   "metadata": {},
   "outputs": [
    {
     "name": "stdout",
     "output_type": "stream",
     "text": [
      "Best alpha : 0.003\n",
      "Try again for more precision with alphas centered around 0.003\n",
      "Best alpha : 0.0019500000000000001\n"
     ]
    }
   ],
   "source": [
    "lasso = LassoCV(alphas = [0.0001, 0.0003, 0.0006, 0.001, 0.003, 0.006, 0.01, 0.03, 0.06, 0.1, \n",
    "                          0.3, 0.6, 1], \n",
    "                max_iter = 50000, cv = 10)\n",
    "lasso.fit(sqrt_train_x, sqrt_train_y)\n",
    "alpha = lasso.alpha_\n",
    "print(\"Best alpha :\", alpha)\n",
    "\n",
    "print(\"Try again for more precision with alphas centered around \" + str(alpha))\n",
    "lasso = LassoCV(alphas = [alpha * .6, alpha * .65, alpha * .7, alpha * .75, alpha * .8, \n",
    "                          alpha * .85, alpha * .9, alpha * .95, alpha, alpha * 1.05, \n",
    "                          alpha * 1.1, alpha * 1.15, alpha * 1.25, alpha * 1.3, alpha * 1.35, \n",
    "                          alpha * 1.4], \n",
    "                max_iter = 50000, cv = 10)\n",
    "lasso.fit(sqrt_train_x, sqrt_train_y)\n",
    "alpha = lasso.alpha_\n",
    "print(\"Best alpha :\", alpha)"
   ]
  },
  {
   "cell_type": "code",
   "execution_count": 357,
   "metadata": {},
   "outputs": [
    {
     "name": "stdout",
     "output_type": "stream",
     "text": [
      "Lasso RMSE on Training set : 0.8129897650884775\n",
      "Lasso RMSE on Test set : 0.8103189745514662\n"
     ]
    }
   ],
   "source": [
    "print(\"Lasso RMSE on Training set :\", sqrt_rmse_cv_train(lasso).mean())\n",
    "print(\"Lasso RMSE on Test set :\", sqrt_rmse_cv_test(lasso).mean())"
   ]
  },
  {
   "cell_type": "code",
   "execution_count": 358,
   "metadata": {},
   "outputs": [
    {
     "name": "stdout",
     "output_type": "stream",
     "text": [
      "Lasso picked 21 features and eliminated the other 18 features\n"
     ]
    },
    {
     "data": {
      "image/png": "[encoded data removed]",
      "text/plain": [
       "<Figure size 432x288 with 1 Axes>"
      ]
     },
     "metadata": {},
     "output_type": "display_data"
    }
   ],
   "source": [
    "coefs = pd.Series(lasso.coef_, index = train_x.columns)\n",
    "print(\"Lasso picked \" + str(sum(coefs != 0)) + \" features and eliminated the other \" +  \\\n",
    "      str(sum(coefs == 0)) + \" features\")\n",
    "imp_coefs = pd.concat([coefs.sort_values().head(10),\n",
    "                     coefs.sort_values().tail(10)])\n",
    "imp_coefs.plot(kind = \"barh\")\n",
    "plt.title(\"Coefficients in the Lasso Model\")\n",
    "plt.show()"
   ]
  },
  {
   "cell_type": "markdown",
   "metadata": {},
   "source": [
    "Lasso regularization also did not perform much better than our first linear model. However, I wanted to try using this in order to see which features it would value higher and which ones it would remove. As seen in the chart above, lasso kept a majority of the outlet_identifiers which makes sense since the outlet_identifier encompasses some of the other information such as location type which is almost all but gone. Also, interestingly Item_MRP does not have a large coefficient whereas in our heatmap before we saw that it was the variable that was dominantly correlated with sales. Finally, just like with the Ridge Model, we see that OUT027 and supermarket type1 have strongest predictor values and grocery store has an immense negative score since it skews the results with its small values. "
   ]
  },
  {
   "cell_type": "markdown",
   "metadata": {},
   "source": [
    "<h1>Conclusions</h1>"
   ]
  },
  {
   "cell_type": "markdown",
   "metadata": {},
   "source": [
    "In conclusion, we notice that the linear models perform similarly with and without regularization. The strongest predictors in our set are the outlet_identifiers and outlet_type. \n",
    "\n",
    "Overall, this project was very informative. I was able to check all my hypothesis and learnt how to extract more information than meets the eye. Althought this dataset was fairly small, it was a good start. I would have liked to be able to feature engineer on this set but I did not think it was necessary due to the nature of the data. \n",
    "\n",
    "I will definately try to tackle a larger set next time, thanks for reading and hope you found this helpful!"
   ]
  }
 ],
 "metadata": {
  "kernelspec": {
   "display_name": "Python 3",
   "language": "python",
   "name": "python3"
  },
  "language_info": {
   "codemirror_mode": {
    "name": "ipython",
    "version": 3
   },
   "file_extension": ".py",
   "mimetype": "text/x-python",
   "name": "python",
   "nbconvert_exporter": "python",
   "pygments_lexer": "ipython3",
   "version": "3.6.5"
  }
 },
 "nbformat": 4,
 "nbformat_minor": 2
}
